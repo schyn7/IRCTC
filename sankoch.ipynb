{
 "cells": [
  {
   "cell_type": "code",
   "execution_count": 2,
   "metadata": {},
   "outputs": [],
   "source": [
    "from selenium import webdriver\n",
    "import time\n",
    "from selenium.common.exceptions import NoSuchElementException\n",
    "from selenium.common.exceptions import ElementClickInterceptedException\n",
    "from selenium.common.exceptions import NoSuchWindowException\n",
    "\n",
    "import pandas as pd"
   ]
  },
  {
   "cell_type": "code",
   "execution_count": 3,
   "metadata": {},
   "outputs": [
    {
     "name": "stdout",
     "output_type": "stream",
     "text": [
      "a 997\n",
      "b 997\n",
      "1037\n"
     ]
    }
   ],
   "source": [
    "chromedriver = r'''C:\\Users\\SACHIN\\Desktop\\chromedriver'''\n",
    "\n",
    "driver = webdriver.Chrome(chromedriver)\n",
    "\n",
    "driver.get('https://ipindiaservices.gov.in/PublicSearch/PublicationSearch')\n",
    "\n",
    "\n",
    "#p = driver.find_element_by_xpath('//*[@id=\"Index\"]/a').text\n",
    "#print(p)\n",
    "\n",
    "granted = driver.find_element_by_xpath('//*[@id=\"Granted\"]')\n",
    "granted.click()\n",
    "\n",
    "date_of_grant = driver.find_element_by_xpath('//*[@id=\"DateField\"]/option[3]')\n",
    "date_of_grant.click()\n",
    "\n",
    "from_date = driver.find_element_by_xpath('//*[@id=\"FromDate\"]')\n",
    "from_date.send_keys('01/01/2000')\n",
    "\n",
    "to_date = driver.find_element_by_xpath('//*[@id=\"ToDate\"]')\n",
    "to_date.send_keys('05/23/2020')\n",
    "\n",
    "filling_office = driver.find_element_by_xpath('//*[@id=\"ItemField1\"]/option[13]')\n",
    "filling_office.click()\n",
    "\n",
    "filling_office_name = driver.find_element_by_xpath('//*[@id=\"TextField1\"]')\n",
    "filling_office_name.send_keys('Kolkata')\n",
    "\n",
    "or_option = driver.find_element_by_xpath('//*[@id=\"LogicField1\"]/option[2]')\n",
    "or_option.click()\n",
    "'''\n",
    "applicant_address = driver.find_element_by_xpath('//*[@id=\"ItemField2\"]/option[9]')\n",
    "applicant_address.click()\n",
    "\n",
    "applicant_address_state = driver.find_element_by_xpath('//*[@id=\"TextField2\"]')\n",
    "applicant_address_state.send_keys('West bengal')\n",
    "\n",
    "or_option2 = driver.find_element_by_xpath('//*[@id=\"LogicField2\"]/option[2]')\n",
    "or_option2.click()\n",
    "'''\n",
    "inventors_address = driver.find_element_by_xpath('//*[@id=\"ItemField2\"]/option[12]')\n",
    "inventors_address.click()\n",
    "\n",
    "inventors_address_state = driver.find_element_by_xpath('//*[@id=\"TextField2\"]')\n",
    "inventors_address_state.send_keys('West bengal')\n",
    "time.sleep(9)\n",
    "\n",
    "search = driver.find_element_by_xpath('//*[@id=\"home\"]/div[18]/div[2]/div/div/div[1]/div[3]/input')\n",
    "search.click()\n",
    "\n",
    "'''\n",
    "patent1 = driver.find_element_by_xpath('//*[@id=\"tableData\"]/tbody/tr[1]/td[1]/button')\n",
    "patent1.click()\n",
    "#time.sleep(3)\n",
    "#Title = driver.find_element_by_xpath('//*[@id=\"home\"]/table/tbody/tr[1]/td[1]').text\n",
    "#print(Title)\n",
    "\n",
    "patent2 = driver.find_element_by_xpath('//*[@id=\"tableData\"]/tbody/tr[2]/td[1]/button')\n",
    "patent2.click()\n",
    "patent3 = driver.find_element_by_xpath('//*[@id=\"tableData\"]/tbody/tr[3]/td[1]/button')\n",
    "patent3.click()\n",
    "\n",
    "\n",
    "'''\n",
    "\n",
    "a = []\n",
    "b = []\n",
    "c = []\n",
    "d = []\n",
    "e = []\n",
    "f = []\n",
    "g = []\n",
    "h = []\n",
    "def Patent_Data_Size():\n",
    "    patent = 1\n",
    "    j = 0\n",
    "    while(patent <27):\n",
    "        j+=1\n",
    "        try:\n",
    "            w = '//*[@id=\"tableData\"]/tbody/tr[' + str(j) + ']/td[1]/button'\n",
    "            driver.find_element_by_xpath(w).click()\n",
    "            for windowHandle in driver.window_handles:\n",
    "                driver.switch_to.window(windowHandle)\n",
    "                break\n",
    "\n",
    "        except NoSuchElementException:  # spelling error making this code not work as expected\n",
    "            driver.find_element_by_xpath('//*[@id=\"header\"]/div[4]/div/div[1]/form/div/button[3]').click()\n",
    "            j=0\n",
    "        except NoSuchWindowException:\n",
    "            pass\n",
    "        except ElementClickInterceptedException:\n",
    "            pass\n",
    "        patent += 1\n",
    "\n",
    "\n",
    "\n",
    "\n",
    "    i=0\n",
    "    #time.sleep(5)\n",
    "    for windowHandle in driver.window_handles:\n",
    "        #print(windowHandle)\n",
    "\n",
    "        driver.switch_to.window(windowHandle)\n",
    "        try:\n",
    "            elem = driver.find_element_by_xpath('//*[@id=\"home\"]/table/tbody/tr[1]/td[2]')\n",
    "            a.append(elem.text)\n",
    "        except NoSuchElementException:  # spelling error making this code not work as expected\n",
    "            pass\n",
    "        except ElementClickInterceptedException:\n",
    "            pass\n",
    "        except NoSuchWindowException:\n",
    "            pass\n",
    "\n",
    "\n",
    "        driver.switch_to.window(windowHandle)\n",
    "        try:\n",
    "            elem = driver.find_element_by_xpath('//*[@id=\"home\"]/table/tbody/tr[16]/td')\n",
    "            b.append(elem.text)\n",
    "        except NoSuchElementException:  # spelling error making this code not work as expected\n",
    "            pass\n",
    "        except ElementClickInterceptedException:\n",
    "            pass\n",
    "        except NoSuchWindowException:\n",
    "            pass\n",
    "\n",
    "\n",
    "\n",
    "        try:\n",
    "            elem = driver.find_element_by_xpath('//*[@id=\"home\"]/table/tbody/tr[2]/td[2]')\n",
    "            f.append(elem.text)\n",
    "        except NoSuchElementException:  # spelling error making this code not work as expected\n",
    "            pass\n",
    "        except ElementClickInterceptedException:\n",
    "            pass\n",
    "\n",
    "\n",
    "        try:\n",
    "            elem = driver.find_element_by_xpath('//*[@id=\"home\"]/table/tbody/tr[3]/td[2]')\n",
    "            g.append(elem.text)\n",
    "        except NoSuchElementException:  # spelling error making this code not work as expected\n",
    "            pass\n",
    "        except ElementClickInterceptedException:\n",
    "            pass\n",
    "        except NoSuchWindowException:\n",
    "            pass\n",
    "\n",
    "\n",
    "\n",
    "        try:\n",
    "            elem = driver.find_element_by_xpath('//*[@id=\"home\"]/table/tbody/tr[6]/td[2]')\n",
    "            c.append(elem.text)\n",
    "        except NoSuchElementException:  # spelling error making this code not work as expected\n",
    "            pass\n",
    "        except ElementClickInterceptedException:\n",
    "            pass\n",
    "        except NoSuchWindowException:\n",
    "            pass\n",
    "\n",
    "\n",
    "        try:\n",
    "            elem = driver.find_element_by_xpath('//*[@id=\"home\"]/table/tbody/tr[10]/td[2]')\n",
    "            d.append(elem.text)\n",
    "        except NoSuchElementException:  # spelling error making this code not work as expected\n",
    "            pass\n",
    "        except ElementClickInterceptedException:\n",
    "            pass\n",
    "        except NoSuchWindowException:\n",
    "            pass\n",
    "        \n",
    "        \n",
    "        try:\n",
    "            elem = driver.find_element_by_xpath('//*[@id=\"home\"]/table/tbody/tr[17]/td')\n",
    "            if elem.text is not None:\n",
    "                h.append(elem.text)\n",
    "            else: h.append('None')\n",
    "        except NoSuchElementException:  # spelling error making this code not work as expected\n",
    "            h.append('None')\n",
    "            pass\n",
    "        except ElementClickInterceptedException:\n",
    "            pass\n",
    "        except NoSuchWindowException:\n",
    "            pass\n",
    "\n",
    "\n",
    "        try:\n",
    "            elem = driver.find_element_by_xpath('//*[@id=\"home\"]/table/tbody/tr[11]/td[2]')\n",
    "            e.append(elem.text)\n",
    "            driver.close()\n",
    "        except NoSuchElementException:\n",
    "            pass\n",
    "        except ElementClickInterceptedException:\n",
    "            pass\n",
    "        except NoSuchWindowException:\n",
    "            pass\n",
    "\n",
    "\n",
    "        i = i + 1\n",
    "\n",
    "\n",
    "\n",
    "\n",
    "for _ in range(0,40):\n",
    "    Patent_Data_Size()\n",
    "    for windowHandle in driver.window_handles:\n",
    "        driver.switch_to.window(windowHandle)\n",
    "        break\n",
    "\n",
    "#print(a)\n",
    "print('a',len(a))\n",
    "#print(b)\n",
    "print('b',len(b))\n",
    "#print(h)\n",
    "print(len(h))\n",
    "\n",
    "#df = pd.DataFrame(columns=['Invention Title','Publication Number','Publication Date','Application Filing Date','Field Of Invention','Classification (IPC)', 'Abstract'])\n",
    "\n",
    "#df['Invention Title'] = a\n",
    "#df['Abstract'] = b\n",
    "#df['Application Filing Date'] =c\n",
    "#df['Field Of Invention'] =d\n",
    "#df['Classification (IPC)']=e\n",
    "#df['Publication Number'] = f\n",
    "#df['Publication Date'] = g\n",
    "#df['Complete Specification'] = h\n",
    "#print(df.head())\n",
    "#print(df.tail())\n",
    "\n",
    "\n",
    "#df.to_excel('law patents without summary.xlsx')\n",
    "#driver.service.stop()"
   ]
  },
  {
   "cell_type": "code",
   "execution_count": 4,
   "metadata": {},
   "outputs": [
    {
     "data": {
      "text/plain": [
       "1037"
      ]
     },
     "execution_count": 4,
     "metadata": {},
     "output_type": "execute_result"
    }
   ],
   "source": [
    "len(h)"
   ]
  },
  {
   "cell_type": "code",
   "execution_count": 5,
   "metadata": {},
   "outputs": [
    {
     "data": {
      "text/plain": [
       "997"
      ]
     },
     "execution_count": 5,
     "metadata": {},
     "output_type": "execute_result"
    }
   ],
   "source": [
    "len(a)"
   ]
  },
  {
   "cell_type": "code",
   "execution_count": 6,
   "metadata": {},
   "outputs": [
    {
     "data": {
      "text/plain": [
       "43"
      ]
     },
     "execution_count": 6,
     "metadata": {},
     "output_type": "execute_result"
    }
   ],
   "source": [
    "h.count('None')"
   ]
  },
  {
   "cell_type": "code",
   "execution_count": 270,
   "metadata": {},
   "outputs": [
    {
     "data": {
      "text/plain": [
       "'None'"
      ]
     },
     "execution_count": 270,
     "metadata": {},
     "output_type": "execute_result"
    }
   ],
   "source": [
    "h[999]"
   ]
  },
  {
   "cell_type": "code",
   "execution_count": 271,
   "metadata": {},
   "outputs": [
    {
     "data": {
      "text/plain": [
       "'None'"
      ]
     },
     "execution_count": 271,
     "metadata": {},
     "output_type": "execute_result"
    }
   ],
   "source": [
    "h[207]"
   ]
  },
  {
   "cell_type": "code",
   "execution_count": 277,
   "metadata": {},
   "outputs": [
    {
     "data": {
      "text/plain": [
       "'None'"
      ]
     },
     "execution_count": 277,
     "metadata": {},
     "output_type": "execute_result"
    }
   ],
   "source": [
    "\n",
    "h[78]"
   ]
  },
  {
   "cell_type": "code",
   "execution_count": 273,
   "metadata": {},
   "outputs": [
    {
     "data": {
      "text/plain": [
       "'None'"
      ]
     },
     "execution_count": 273,
     "metadata": {},
     "output_type": "execute_result"
    }
   ],
   "source": [
    "h[104]"
   ]
  },
  {
   "cell_type": "code",
   "execution_count": 60,
   "metadata": {},
   "outputs": [
    {
     "name": "stdout",
     "output_type": "stream",
     "text": [
      "0\n",
      "26\n",
      "52\n",
      "78\n",
      "104\n",
      "130\n",
      "156\n",
      "182\n",
      "208\n",
      "['None']\n",
      "234\n",
      "['None']\n",
      "260\n",
      "['None']\n",
      "286\n",
      "['None']\n",
      "312\n",
      "['None']\n",
      "338\n",
      "['None']\n",
      "364\n",
      "['None']\n",
      "390\n",
      "['None']\n",
      "416\n",
      "['None']\n",
      "442\n",
      "['None']\n",
      "468\n",
      "['None']\n",
      "494\n",
      "['None']\n",
      "520\n",
      "['None']\n",
      "546\n",
      "['None']\n",
      "572\n",
      "['None']\n",
      "598\n",
      "['None']\n",
      "624\n",
      "['None']\n",
      "650\n",
      "676\n",
      "['None']\n",
      "702\n",
      "['None']\n",
      "728\n",
      "['None']\n",
      "754\n",
      "['None']\n",
      "780\n",
      "806\n",
      "['None']\n",
      "832\n",
      "['None']\n",
      "858\n",
      "['None']\n",
      "884\n",
      "['None']\n",
      "910\n",
      "['None']\n",
      "936\n",
      "['None']\n",
      "962\n",
      "['None']\n",
      "988\n",
      "['None']\n",
      "1014\n",
      "['None']\n",
      "40\n"
     ]
    }
   ],
   "source": []
  },
  {
   "cell_type": "code",
   "execution_count": 275,
   "metadata": {},
   "outputs": [
    {
     "data": {
      "text/plain": [
       "'A METHOD OF MANUFACTURING A COLD FORMED,DIFFUSION BONDED BIMETALLIC TUBE'"
      ]
     },
     "execution_count": 275,
     "metadata": {},
     "output_type": "execute_result"
    }
   ],
   "source": [
    "h[803]\n",
    "a[803]"
   ]
  },
  {
   "cell_type": "code",
   "execution_count": 264,
   "metadata": {},
   "outputs": [
    {
     "data": {
      "text/plain": [
       "1031"
      ]
     },
     "execution_count": 264,
     "metadata": {},
     "output_type": "execute_result"
    }
   ],
   "source": [
    "len(h)"
   ]
  },
  {
   "cell_type": "code",
   "execution_count": 274,
   "metadata": {},
   "outputs": [
    {
     "name": "stdout",
     "output_type": "stream",
     "text": [
      "0\n",
      "['None']\n",
      "26\n",
      "['None']\n",
      "52\n",
      "['None']\n",
      "78\n",
      "['None']\n",
      "104\n",
      "['None']\n",
      "130\n",
      "['None']\n",
      "156\n",
      "['None']\n",
      "182\n",
      "['None']\n",
      "208\n",
      "['Complete', 'Specification\\n\\nELECTROCHROMIC', 'COMPOUND,', 'ELECTROCHROMIC', 'COMPOSITION,', 'DISPLAY', 'ELEMENT,', 'AND', 'DIMMING', 'ELEMENT\\n\\nTechnical', 'Field', '\\n\\n\\n[0001]', '\\n\\nThe', 'present', 'invention', 'relates', 'to', 'an', 'electrochromic', 'compound,']\n",
      "234\n",
      "['Complete', 'Specification\\n\\nEntitled', 'air', 'filter', 'medium,', 'filter', 'pack,', 'the', 'air', 'filter', 'unit,', 'and', 'a', 'manufacturing', 'method', 'of', 'the', 'filter', 'medium', 'for']\n",
      "260\n",
      "['Complete', 'Specification\\n\\nClaims:PLEASE', 'FIND', 'THE', 'ATTACHMENT', '', ',', 'Description:PLEASE', 'FIND', 'THE', 'ATTACHMENT', '']\n",
      "286\n",
      "['Complete', 'Specification\\n\\n', '']\n",
      "312\n",
      "['Complete', 'Specification\\n\\n', 'ENERGY', 'EFFICIENT', 'NAPHTHENE', 'RECYCLE', 'VIA', 'THE', 'USE', 'OF', 'A', 'SIDE', 'DRAW\\nFRACTIONATION', 'TOWER', 'AND', 'PARTIAL', 'CONDENSATION\\nCROSS-REFERENCE', 'TO', 'RELATED', 'APPLICATION\\nThis']\n",
      "338\n",
      "['Complete', 'Specification\\n\\n', '']\n",
      "364\n",
      "['Complete', 'Specification\\n\\n', '\\n\\nFIELD', 'OF', 'THE', 'INVENTION\\nThe', 'present', 'invention', 'relates', 'generally', 'to', 'methods', 'and', 'systems', 'for', 'production', 'of', 'vitrinite\\nrich', 'hydrocarbons,', 'clean']\n",
      "390\n",
      "['Complete', 'Specification\\n\\n', 'A', 'method', 'for', 'producing', 'methacrolein', 'and', 'its', 'conditioning', '/', 'drainage', 'for', 'the', 'direct', 'oxidative', 'esterification\\n\\n\\nField', 'of', 'the', 'Invention\\n\\n']\n",
      "416\n",
      "['Complete', 'Specification\\n\\n', 'DESCRIPTION\\nTitle', 'of', 'Invention\\nINTERLAYER', 'FILM', 'FOR', 'LAMINATED', 'GLASS', 'AND', 'LAMINATED', 'GLASS\\nTechnical', 'Field\\n[0001]\\nThe', 'present', 'invention', 'relates', 'to', 'an', 'interlayer', 'film\\nfor']\n",
      "442\n",
      "['Complete', 'Specification\\n\\nClaims:Please', 'find', 'the', 'attached', 'file', ',', 'Description:Please', 'find', 'the', 'attached', 'file']\n",
      "468\n",
      "['Complete', 'Specification\\n\\nClaims:1.', 'A', 'system', 'for', 'pre-hydrating', 'calcined', 'lime', 'and', 'its', 'subsequent', 'addition', 'to', 'one', 'or', 'more', 'raw', 'material', 'during', 'sintering']\n",
      "494\n",
      "['Complete', 'Specification\\n\\nFIELD', 'OF', 'THE', 'INVENTION\\nThe', 'present', 'invention', 'relates', 'to', 'an', 'optoelectronic', 'instrument', 'and', 'method', 'to', 'set', 'up', 'such', 'instrument', 'for']\n",
      "520\n",
      "['Complete', 'Specification\\n\\nAcid', 'Dyes,', 'process', 'for', 'the', 'production', 'thereof', 'and', 'the\\n\\n\\nThe', 'present', 'invention', 'relates', 'to', 'the', 'technical', 'field', 'of', 'dyestuffs', 'for']\n",
      "546\n",
      "['Complete', 'Specification\\n\\nThe', 'name', 'of', 'the', 'invention:', 'for', 'the', 'electrical', 'equipment', 'coating', 'material,', 'for', 'electrical', 'equipment', 'coating', 'material', 'manufacturing', 'methods', 'and']\n",
      "572\n",
      "['Complete', 'Specification\\n\\nClaims:We', 'Claim:\\n\\n1.', 'Fluorescent', 'cyclometalated', 'complexes', 'comprising', 'fluorescent', 'cyclometalated', 'Ir(III)', 'complexes', 'of', 'Formula', '1', 'and/', 'or', 'salts', 'thereof', 'represented', 'by']\n",
      "598\n",
      "['Complete', 'Specification\\n\\nDESC:FIELD', 'OF', 'THE', 'INVENTION:\\nThis', 'invention', 'relates', 'to', 'lubricating', 'oil', 'composition', 'useful', 'as', 'universal', 'tractor', 'transmission', 'oil', '(UTTO)', 'with', 'anti-chatter']\n",
      "624\n",
      "['Complete', 'Specification\\n\\nDC', 'POWER', 'SOURCE,', 'AND', 'DC', 'POWER', 'SOURCE', 'CONTROL', 'METHOD\\nTechnical', 'Field\\n[0001]\\nThe', 'present', 'invention', 'relates', 'to', 'a', 'direct', 'current', '(DC)\\npower', 'source,']\n",
      "650\n",
      "['Complete', 'Specification\\n\\n[DESCRIPTION]\\n[Title', 'of', 'Invention]\\nAPPARATUS', 'AND', 'METHOD', 'OF', 'TRANSMITTING/RECEIVING', 'SIGNALS', 'IN\\nMOBILE', 'COMMUNICATION', 'SYSTEM', 'SUPPORTING', 'CARRIERS\\n[Technical', 'Field]\\nThe', 'present', 'disclosure', 'relates', 'to', 'transmission/reception']\n",
      "676\n",
      "['Complete', 'Specification\\n\\n', '\\nInvented', 'name:', 'an', 'electrical', 'relay', 'signaling', 'in', 'the', 'grid', 'method', 'and', 'optical', 'network', 'element', 'and', 'network', '\\n\\nTechnical', 'field']\n",
      "702\n",
      "['Complete', 'Specification\\n\\n', 'APPARATUS', 'AND', 'METHOD', 'FOR', 'WINDING', 'A', 'SUBSTANTIALLY', 'CONTINUOUS', 'HEATING', 'ELEMENT', 'ABOUT', 'A', 'SUBSTANTIALLY', 'CONTINUOUS', 'WICK\\n', '\\n\\nFIELD', 'OF', 'THE']\n",
      "728\n",
      "['Complete', 'Specification\\n\\n[LAUNDRY', 'TREATMENT', 'APPARATUS]\\nCROSS-REFERENCE', 'TO', 'RELATED', 'APPLICATION\\n[0001]', 'This', 'application', 'claims', 'the', 'benefit', 'of', 'Korean', 'Patent', 'Application', 'No.', '10-\\n2014-0065883,', 'filed', 'on']\n",
      "754\n",
      "['Complete', 'Specification\\n\\nAlarm', 'suppression', 'method', 'and', 'optical', 'network', 'equipment', '\\n\\nTECHNICAL', 'FIELD', '\\n\\nEmbodiments', 'of', 'the', 'invention', 'relates', 'to', 'communication', 'technology,', 'particularly', 'to']\n",
      "780\n",
      "['Complete', 'Specification\\n\\nCLIAMS:1.', 'A', 'roots', 'pump', 'having', 'an', 'improved', 'structure', 'which', 'is', 'formed', 'of', 'a', 'cylinder', 'having', 'an', 'intake', 'port', 'connected']\n",
      "806\n",
      "['Complete', 'Specification\\n\\ndescription\\n\\n\\nSquirrel', 'cage', 'and', 'stick', 'with', 'an', 'incision\\n\\nThe', 'invention', 'relates', 'to', 'a', 'squirrel-cage', 'rotor', 'according', 'to', 'the', 'preamble', 'of', 'claim']\n",
      "832\n",
      "['Complete', 'Specification\\n\\n', '\\n\\nFIELD', 'OF', 'THE', 'INVENTION\\nThe', 'present', 'invention', 'relates', 'to', 'the', 'synthesis', 'of', 'reverse', 'flotation', 'reagents', 'for', 'enhanced', 'iron', 'ore-gangue']\n",
      "858\n",
      "['Complete', 'Specification\\n\\n', '']\n",
      "884\n",
      "['Complete', 'Specification\\n\\nCLIAMS:1.', 'An', 'improved', 'method', 'for', 'assessing', 'slipperiness', 'of', 'soap', 'bar,', 'the', 'method', 'comprising:\\na)', 'preparing', 'a', 'soap', 'noodle', 'composition', 'by']\n",
      "910\n",
      "['Complete', 'Specification\\n\\nCHEMICAL', 'PROCESS\\nField', 'of', 'the', 'Invention\\nThe', 'present', 'invention', 'relates', 'to', 'a', 'process', 'for', 'the', 'preparation', 'of', 'umeclidinium', 'bromide,', 'and', 'to']\n",
      "936\n",
      "['Complete', 'Specification\\n\\n', '']\n",
      "962\n",
      "['Complete', 'Specification\\n\\nField', 'of', 'the', 'invention\\nThe', 'present', 'invention', 'relates', 'to', 'methods', 'for', 'manufacturing', 'photonic', 'devices', 'and', 'to\\nphotonic', 'devices', 'manufactured', 'by', 'such']\n",
      "988\n",
      "['Complete', 'Specification\\n\\n', '']\n",
      "1014\n",
      "['Complete', 'Specification\\n\\n', '']\n",
      "40\n"
     ]
    }
   ],
   "source": [
    "cp=0\n",
    "for i in range(0,1037,26):\n",
    "    print(i)\n",
    "    print(h[i].split(\" \")[:20])\n",
    "    cp+=1\n",
    "    \n",
    "print(cp)"
   ]
  },
  {
   "cell_type": "code",
   "execution_count": 280,
   "metadata": {},
   "outputs": [
    {
     "data": {
      "text/plain": [
       "['None']"
      ]
     },
     "execution_count": 280,
     "metadata": {},
     "output_type": "execute_result"
    }
   ],
   "source": [
    "h[649].split(\" \")[:20]"
   ]
  },
  {
   "cell_type": "code",
   "execution_count": 282,
   "metadata": {},
   "outputs": [
    {
     "data": {
      "text/plain": [
       "['None']"
      ]
     },
     "execution_count": 282,
     "metadata": {},
     "output_type": "execute_result"
    }
   ],
   "source": [
    "h[674].split(\" \")[:20]"
   ]
  },
  {
   "cell_type": "code",
   "execution_count": 202,
   "metadata": {},
   "outputs": [
    {
     "data": {
      "text/plain": [
       "['None']"
      ]
     },
     "execution_count": 202,
     "metadata": {},
     "output_type": "execute_result"
    }
   ],
   "source": [
    "h[700].split(\" \")[:20]"
   ]
  },
  {
   "cell_type": "code",
   "execution_count": 203,
   "metadata": {},
   "outputs": [
    {
     "data": {
      "text/plain": [
       "['None']"
      ]
     },
     "execution_count": 203,
     "metadata": {},
     "output_type": "execute_result"
    }
   ],
   "source": [
    "h[725].split(\" \")[:20]"
   ]
  },
  {
   "cell_type": "code",
   "execution_count": 205,
   "metadata": {},
   "outputs": [
    {
     "data": {
      "text/plain": [
       "['None']"
      ]
     },
     "execution_count": 205,
     "metadata": {},
     "output_type": "execute_result"
    }
   ],
   "source": [
    "h[750].split(\" \")[:20]"
   ]
  },
  {
   "cell_type": "code",
   "execution_count": 208,
   "metadata": {},
   "outputs": [
    {
     "data": {
      "text/plain": [
       "['None']"
      ]
     },
     "execution_count": 208,
     "metadata": {},
     "output_type": "execute_result"
    }
   ],
   "source": [
    "h[775].split(\" \")[:20]"
   ]
  },
  {
   "cell_type": "code",
   "execution_count": 215,
   "metadata": {},
   "outputs": [
    {
     "data": {
      "text/plain": [
       "['None']"
      ]
     },
     "execution_count": 215,
     "metadata": {},
     "output_type": "execute_result"
    }
   ],
   "source": [
    "h[799].split(\" \")[:20]"
   ]
  },
  {
   "cell_type": "code",
   "execution_count": 219,
   "metadata": {},
   "outputs": [
    {
     "data": {
      "text/plain": [
       "['None']"
      ]
     },
     "execution_count": 219,
     "metadata": {},
     "output_type": "execute_result"
    }
   ],
   "source": [
    "h[624].split(\" \")[:20]"
   ]
  },
  {
   "cell_type": "code",
   "execution_count": 222,
   "metadata": {},
   "outputs": [
    {
     "data": {
      "text/plain": [
       "['None']"
      ]
     },
     "execution_count": 222,
     "metadata": {},
     "output_type": "execute_result"
    }
   ],
   "source": [
    "h[849].split(\" \")[:20]"
   ]
  },
  {
   "cell_type": "code",
   "execution_count": 223,
   "metadata": {},
   "outputs": [
    {
     "data": {
      "text/plain": [
       "['None']"
      ]
     },
     "execution_count": 223,
     "metadata": {},
     "output_type": "execute_result"
    }
   ],
   "source": [
    "h[901].split(\" \")[:20]"
   ]
  },
  {
   "cell_type": "code",
   "execution_count": 247,
   "metadata": {},
   "outputs": [
    {
     "data": {
      "text/plain": [
       "['None']"
      ]
     },
     "execution_count": 247,
     "metadata": {},
     "output_type": "execute_result"
    }
   ],
   "source": [
    "h[927].split(\" \")[:20]"
   ]
  },
  {
   "cell_type": "code",
   "execution_count": 249,
   "metadata": {},
   "outputs": [
    {
     "data": {
      "text/plain": [
       "['None']"
      ]
     },
     "execution_count": 249,
     "metadata": {},
     "output_type": "execute_result"
    }
   ],
   "source": [
    "h[953].split(\" \")[:20]"
   ]
  },
  {
   "cell_type": "code",
   "execution_count": 250,
   "metadata": {},
   "outputs": [
    {
     "data": {
      "text/plain": [
       "['None']"
      ]
     },
     "execution_count": 250,
     "metadata": {},
     "output_type": "execute_result"
    }
   ],
   "source": [
    "h[979].split(\" \")[:20]"
   ]
  },
  {
   "cell_type": "code",
   "execution_count": 263,
   "metadata": {},
   "outputs": [
    {
     "data": {
      "text/plain": [
       "['None']"
      ]
     },
     "execution_count": 263,
     "metadata": {},
     "output_type": "execute_result"
    }
   ],
   "source": [
    "h[993].split(\" \")[:20]"
   ]
  },
  {
   "cell_type": "code",
   "execution_count": 265,
   "metadata": {},
   "outputs": [
    {
     "data": {
      "text/plain": [
       "997"
      ]
     },
     "execution_count": 265,
     "metadata": {},
     "output_type": "execute_result"
    }
   ],
   "source": [
    "len(a)"
   ]
  },
  {
   "cell_type": "code",
   "execution_count": 136,
   "metadata": {},
   "outputs": [
    {
     "data": {
      "text/plain": [
       "'None'"
      ]
     },
     "execution_count": 136,
     "metadata": {},
     "output_type": "execute_result"
    }
   ],
   "source": []
  },
  {
   "cell_type": "code",
   "execution_count": 150,
   "metadata": {},
   "outputs": [
    {
     "data": {
      "text/plain": [
       "'Complete Specification\\n\\n '"
      ]
     },
     "execution_count": 150,
     "metadata": {},
     "output_type": "execute_result"
    }
   ],
   "source": []
  },
  {
   "cell_type": "code",
   "execution_count": 151,
   "metadata": {},
   "outputs": [
    {
     "data": {
      "text/plain": [
       "1006"
      ]
     },
     "execution_count": 151,
     "metadata": {},
     "output_type": "execute_result"
    }
   ],
   "source": [
    "len(h)"
   ]
  },
  {
   "cell_type": "code",
   "execution_count": 152,
   "metadata": {},
   "outputs": [
    {
     "data": {
      "text/plain": [
       "997"
      ]
     },
     "execution_count": 152,
     "metadata": {},
     "output_type": "execute_result"
    }
   ],
   "source": [
    "len(a)"
   ]
  },
  {
   "cell_type": "code",
   "execution_count": 160,
   "metadata": {},
   "outputs": [
    {
     "data": {
      "text/plain": [
       "'None'"
      ]
     },
     "execution_count": 160,
     "metadata": {},
     "output_type": "execute_result"
    }
   ],
   "source": [
    "h[651]"
   ]
  },
  {
   "cell_type": "code",
   "execution_count": 166,
   "metadata": {},
   "outputs": [
    {
     "data": {
      "text/plain": [
       "'Complete Specification\\n\\nA HOLLOW FIBER MODULE HAVING THIN FILM COMPOSITE- AQUAPORIN MODIFIED MEMBRANES FIELD OF THE INVENTION \\n\\nThe present invention relates to a hollow fiber (HF) module having thin film composite (TFC) modified fiber membranes, such as having a polyamide TFC layer on the outside or inside of the fibers, or on both sides, and comprising aquaporin water channels in said TFC layer. The present invention also relates to a hollow fiber membrane having a thin film composite (TFC) modified separation layer comprising aquaporin water channels, such as having a polyamide TFC layer on the outside or inside of the fibers and to a method of preparing said TFC modification directly on the fibers as mounted in the module and where said TFC layer comprises aquaporin water channels immobilised or embedded in said layer.\\n\\n\\nBACKGROUND OF THE INVENTION \\n\\nRecently, it has been shown how thin film composite hollow fiber membranes can be prepared for forward osmosis (Sukitpaneenit & Chung 2012) through interfacial polymerization creating a polyamide thin layer on the inner surface of PES hollow fiber support membranes where a 2 wt % of meta-phenylene diamine (MPD) aqueous solution containing 0.5 wt % of triethylamine and 0.1 wt % of sodium dodecyl sulfate is introduced through pumping from a bottom inlet into a vertically positioned HF module followed by air drying and then introduction of a 0.15 wt % of trimesoyl chloride (TMC) in hexane solution to form the polyamide thin film and finally purging with air and curing at 65 °C, rinsing with deionized water and storing in deionized water. Furthermore, Peinemann et al. describes a method of preparing a similar TFC layer on the interior surface of a hollow fiber, cf. US published patent application No. 2007/0199892. \\n\\nMoreover, Zhong et al. (2013) describe the development of TFC forward osmosis hollow fiber membranes using direct sulfonated polyphenylenesulfone as membrane substrate. However, for a wide range of separation applications where hollow fiber modules are employed it is of importance to be able to separate or filter out organic solutes of relatively low molecular weight during the filtration process. For example, in \\n\\nhaemodialysis where HF modules are widely used, a uremic toxin and organic degradation product, such as indoxyl sulfate (Indoxyl sulfate potassium salt, CAS Number 2642-37-7, molecular weight 251.30) poses a particularly difficult problem. Indoxyl sulfate is accumulated in the serum of chronic kidney disease patients. A part of the dietary protein-derived tryptophan is metabolized into indole by tryptophanase in intestinal bacteria. Indole is absorbed into the blood from the intestine, and is \\n\\nmetabolized to indoxyl sulfate in the liver. Indoxyl sulfate is normally excreted into urine. In haemodialysis patients, however, an inadequate renal clearance of indoxyl sulfate leads to its elevated serum levels, cf. Niwa T. (2010). Niwa et al. (1997) have advanced the hypothesis that accumulation of indoxyl sulfate accelerates glomerular sclerosis and progression of kidney disease. Administration of an oral adsorbent lowers indoxyl sulfate levels in undialyzed uraemic patients, cf Niwa et al. (1997). Current dialysis methods, i.e. haemodialysis and peritoneal dialysis, the latter being characterised by continuous ultrafiltration and solute removal, do not sufficiently remove some low molecular weight degradation products from serum, such as indoxyl sulfate and /?-cresol (4-methylphenol, CAS No. 106-44-5, molecular weight 108.13). In addition, small water-soluble molecules, such as urea, uric acid and creatinine, and peptides/proteins, such as p2-microglobulin should preferably be removed during dialysis. A direct association between p-cresol, mainly reflecting / cresyl sulfate, and overall mortality and \\n\\ncardiovascular disease in end-stage renal disease and in chronic kidney disease has been found. Likewise, direct associations between indoxyl sulfate and overall mortality and cardiovascular disease has been reported. In continuous hemofiltration therapy loss of physiological (vital) proteins should be minimized and removal of low (< 500 Da) and middle molecular weight (from about 500 to about 40 kDa) uremic toxins and peptides should be optimized, cf. Wenhao Xie (201 1).\\n\\n\\nAoike (2011) mentions the most important features or quality parameters for high performance membranes for use in hemopurification therapies, i.e., high water \\n\\npermeability, capability to remove a wide range of uremic toxins and other characteristic features. However, Aoike also points out that large pore size of existing high \\n\\nperformance membranes (HPM) will likely allow blood to be contaminated by the dialysis fluid, because HPMs, such as polyacrylonitrile (PAN) membranes, having a large pore size allow untoward rapid diffusion of dialyzed endotoxin fragments back into the blood compartment.\\n\\n\\nAccordingly, it remains a problem in the art in providing hollow fiber modules that are able to separate low molecular weight compounds, enabling their removal from liquids in processes such as haemodialysis and in which the hollow fibre module combine a high water permeability with smaller pore sizes.\\n\\n\\nSUMMARY OF THE INVENTION \\n\\nBroadly, the present invention provides a hollow fiber module which is able to separate low molecular weight compounds, for example enabling the HF module to concentrate organic compounds, including urea, indoxyl sulfate, p-cresol and/or p-cresyl sulfate and preferably compounds having a molecular weight of less than about 500 Da and thus enable improved removal of said compounds, e.g. from a liquid. Alternatively or additionally, the present invention aims to provide a hollow fiber module having high water permeability but with smaller pore sizes, such as having a pore diameter of less than about 5 to 10 nm, cf. Clark & Gao (2002).\\n\\n\\nAccordingly, in one aspect, the present invention provides a hollow fiber (HF) module having a TFC layer comprising aquaporin water channels formed on its fiber surfaces, such as the inner fiber surface (lumen).\\n\\n\\nIn a further aspect, the present invention provides a method of preparing a hollow fiber module comprising HF membranes modified with a thin film composite (TFC) layer comprising aquaporin water channels, said method comprising the steps of: \\n\\na) obtaining an aquaporin vesicles suspension (proteoliposomes or \\n\\nproteopolymersomes) having from about 25 to about 500 LPR/POPR of protein, \\n\\nb) preparing an aqueous solution of a di- or triamine, \\n\\nc) dissolving a di- or triacyl halide in an apolar organic solvent, \\n\\nd) preparing a mixture of amine and aquaporin vesicle by dissolving/mixing the vesicles preparation from step a) with the solution from step b), \\n\\ne) pumping the mixture from step d) through the lumen of the hollow fibers in a hollow fiber module using its end inlet, \\n\\nf) removing excess aqueous solution by a gas purging of the lumen side of the fibers using a module inlet, \\n\\ng) injecting the acyl halide solution from step c) into the module through the lumen of the hollow fibers to allow an interfacial polymerization reaction to take place, and \\n\\nh) rinsing the module with an aqueous solvent by injection through a module inlet. \\n\\nIn a further aspect, the present invention provides a method of preparing a hollow fiber module comprising HF membranes modified with a thin film composite (TFC) layer comprising aquaporin water channels, said method comprising the steps of \\n\\na) obtaining an aquaporin vesicles suspension (proteoliposomes or \\n\\nproteopolymersomes) having from about 25 to about 500 LPR/POPR of protein, \\n\\nb) preparing an aqueous solution of 1,3-diaminobenzene of about 1% to about 5 % (w/w) concentration, \\n\\nc) dissolving benzene- 1, 3, 5-tricarbonyl chloride in an organic solvent selected from the group consisting of hexane, heptane, octane or a mixture of solvents to obtain a concentration of about 0.05% to about 1% (w/v), \\n\\nd) preparing an 1,3-diaminobenzene/aquaporin vesicle mixture by \\n\\ndissolving/mixing the vesicles preparation from step a) with the solution from step b), e) pumping the mixture from step d) through the lumen of the hollow fibers in a hollow fiber module using its end inlet, \\n\\nf) removing excess aqueous solution by a gas purging of the lumen side of the fibers using a module inlet, \\n\\ng) injecting the benzene- 1 ,3, 5-tricarbonyl chloride solution from step c) into the module through the lumen of the hollow fibers to allow an interfacial polymerization reaction to take place, and \\n\\nh) rinsing the module with an aqueous solvent by injection through a module inlet.\\n\\n\\nIn a further aspect, the present invention provides a method of outside coating a hollow fiber membrane with a thin film composite (TFC) layer comprising aquaporin water channels, said method comprising the steps of: \\n\\na) obtaining an aquaporin vesicles suspension (proteoliposomes or \\n\\nproteopolymersomes), \\n\\nb) preparing an aqueous solution of a di- or triamine, \\n\\nc) dissolving a di- or triacyl halide in an apolar organic solvent, \\n\\nd) preparing a mixture of amine and aquaporin vesicle by dissolving/mixing the vesicles preparation from step a) with the solution from step b), \\n\\ne) passing the hollow fiber membrane through the mixture from step d), f) removing excess aqueous solution, \\n\\ng) passing the hollow fiber membrane through the acyl halide solution from step c) to allow an interfacial polymerization reaction to take place, and \\n\\nh) rinsing the hollow fiber membrane with an aqueous solvent, e.g. by passing the hollow fibre through a water bath.\\n\\n\\nMoreover, the invention relates to a hollow fiber membrane modified with a thin film composite (TFC) layer comprising aquaporin water channels.\\n\\n\\nIn a further aspect, the present invention provides the use of into a hollow fiber (HF) module as described herein for extraction of pure water through forward osmosis or for re-extraction of pure water from a patient\\'s plasma lost through hemodialysis\\n\\n\\nIn a further aspect, the present invention provides a method of extracting water from an aqueous liquid comprising the following steps: \\n\\na) placing a hollow fiber (HF) module of any one of claims 1 to 9 which is in controlled connection with a first aqueous liquid (feed solution) having an osmotic pressure which is lower than or equal to that of the liquid membrane matrix, and which is further in controlled connection with a second aqueous liquid (draw solution) having an osmotic pressure which is higher than that of the matrix to create an osmotic pressure potential between said first and said second liquid, \\n\\nb) allowing the matrix to absorb pure water from said first liquid and to mediate a pure water flux into said second liquid as long as an osmotic pressure gradient exists, c) optionally separating the extracted pure water from said second liquid.\\n\\n\\nEmbodiments of the present invention will now be described by way of example and not limitation with reference to the accompanying figures. However various further aspects and embodiments of the present invention will be apparent to those skilled in the art in view of the present disclosure.\\n\\n\\n\"and/or\" where used herein is to be taken as specific disclosure of each of the two specified features or components with or without the other. For example \"A and/or B\" is to be taken as specific disclosure of each of (i) A, (ii) B and (iii) A and B, just as if each is set out individually herein.\\n\\n\\nUnless context dictates otherwise, the descriptions and definitions of the features set out above are not limited to any particular aspect or embodiment of the invention and apply \\n\\nequally to all aspects and embodiments which are described.\\n\\n\\nBRIEF DESCRIPTION OF THE DRAWINGS \\n\\nFig. 1 A shows as a photograph and a drawing a HF module having 9 hollow fibers, two end inlets/outlets (1, 2) and two side inlets/outlets (3, 4) as well as four end caps (5) to seal said inlets/outlets. Total length of the module: 100mm; diameter at fibers: 10 mm; diameter at sealing: 130mm.\\n\\n\\nFig. IB shows as a photograph and a drawing a HF module having 984 fibers, two end inlets/outlets (1, 2) and two side inlets/outlets (3, 4). Total length: 25cm, fiber diameter of 700 &#956;&#960;&#953;.\\n\\n\\nFig. 2 shows as a photograph and a drawing a cross section of part of a hollow fiber, UltraPES™, having a wall thickness of about 220 &#956;&#953;&#951; ± 15 &#956;&#951;&#953;, an inner diameter of about 760 &#956;&#953;&#951; ± 30 &#956;&#960;&#953;, a molecular weight cut-off (MWCO, dextran, 90%, 0 bar) of 65 kD ± 20 kD, and a transmembrane water flow of>0.65 ml/[min x cm2 x bar] at 25°C. Picture obtained from Membrana GmbH.\\n\\n\\nFig. 3 shows a principle sketch of the microstructure of the thin film composite layer formed on a hollow fiber of the invention, cf. Example 1 below.\\n\\n\\nFig. 4 shows a principle sketch of a process for automatized continuous outside coating of hollow fibers.\\n\\nDETAILED DESCRIPTION \\n\\nMore specifically, the present invention relates to a HF module having polyethersulfone (PES) fibers or fibers of other suitable porous support material, such as polysulfone, polyphenylene sulfone, polyether imide, polyvinylpyrrolidone and polyacrylonitrile including blends and mixtures thereof, which has been modified by forming a thin film composite layer, e.g. through interfacial polymerization. In addition, various doping materials may be used when manufacturing the hollow fiber support materials, cf. e.g. Qian Yang et al. (2009). Such HF modules are commonly used in food and beverage applications such as filtering beer and wine, but also in some water and wastewater applications including wastewater reuse and pool water recycling. For instance, the \\n\\nGerman company Membrana supplies a hollow fiber module containing several thousands of fibers with an overall surface area of 75 square meters per module. Smaller modules with typically 1 -2 square meters and around 8,000 to 20,000 fibers are commonly used in medical dialysis applications (Fresenius Medical Care, Gambro). In principle, all these commercial products can be coated through interfacial polymerization using the method of the invention resulting in a thin film composite layer wherein aquaporin water channels are incorporated, preferably during its formation, such as by adding a suitable protein suspension or solution, preferably in vesicle form, to the aqueous reactive amine solution, e.g. a meta-phenylene diamine solution, and pumping or injecting the combined solution through the support fibers, removing excess solution and subsequently pumping or injecting a reactive acyl chloride in organic solvent, e.g. \\n\\ntrimesoyl chloride in hexane, and finally rinsing with deionized water, e.g. MilliQ™ water. The housing material of the HF modules of the invention can be any suitable material commonly used for HF modules, such as polypropylene, polyethylene, PVDF and stainless steel. The fibers may be sealed into the HF module housing using commonly known epoxy adhesive materials and the like. Additional examples of HF modules that may be TFC modified according to the invention are found on websites of membrane producers, such as:\\n\\nhttp://ww&#923; membranafiltratio .com/flltration-modules/documentation.cfm \\n\\nhttp://www.kochmembrane.com/PDFs/KMS_Puron_Hollow Fiber PSH300_PSH600_P SH1800_Modul.aspx \\n\\nhttp://www.kochmembrane.com/Membrane-Products/Hollow-Fiber/Ultrafiltration/PURON-Series.aspx \\n\\nhttp://www.daicen.co.jp/english/membrane/kogata.html \\n\\nhttp://www.spectmmlabs.com/filtration/hfmods.html \\n\\nhttp://www.microdyn-nadir.com/en/Products/\\n\\n\\nIn one embodiment of the present invention, the HF module is operated with counter-current flow of draw and feed solutions. In another embodiment of the present invention the HF module is operated with co-current flow of draw and feed solutions. In a further embodiment of the invention the HF module is operated with the draw solution against the TFC layer. In a still further embodiment of the invention the HF module is operated with the feed solution against the TFC layer. In addition, the modified hollow fibres of the invention may be mounted in a system or module for use as a membrane bio-reactor (MBR), where the MBR module containing the hollow fibres is submerged in an aqueous liquid and where purified water is removed from said liquid through the fibres by the use of a draw solution or by application of a moderate suction pressure.\\n\\n\\nA further aspect of the invention relates to a method of making a hollow fiber membrane modified with a thin film composite (TFC) layer comprising aquaporin water channels, where the TFC layer comprising aquaporin water channels is prepared directly on the surface of membrane fibers mounted and sealed in a HF module, said method comprising the steps of: \\n\\na) obtaining an aquaporin vesicles suspension (proteoliposomes or \\n\\nproteopolymersomes) having from about 25 to about 500 LPR/POPR (ratio based on mole content) (preferably 100 LPR/POPR for lipid/diblock copolymer, 50 POPR for triblock copolymer) of protein, \\n\\nb) preparing an aqueous solution of a diamine, such as 1,3-diaminobenzene, to obtain a solution of about 1% to about 5 %, such as about 2.5 to 4.2% (w/w) \\n\\nconcentration, \\n\\nc) dissolving an acyl chloride, such as benzene- 1, 3, 5-tricarbonyl chloride in a hydrocarbon solvent, such as hexane, heptane, octane, nonane having a straight or branched hydrocarbon chain to or mixtures of these, such as isoalkane hydrocarbon solvent obtain a concentration of about 0.05% to about 1 %, such as about 0.15% (w/v), d) preparing a diamine /aquaporin vesicle mixture, such asl,3-diaminobenzene/aquaporin vesicle mixture by dissolving/mixing the vesicles preparation from step a) with the solution from step b), \\n\\ne) pumping the mixture from step d) through the lumen of the hollow fibers in a hollow fiber module using its end inlet, \\n\\nf) removing excess diamine by a gas purging of the lumen side of the fibers using a module inlet, \\n\\ng) injecting the acyl chloride solution from step c) into the module through an inlet to allow an interfacial polymerization reaction to take place, and \\n\\nh) rinsing the module with an aqueous solvent by injection through a module inlet.\\n\\n\\nOptionally, after filling with water the module is sealed with tight caps to prevent it from drying out. \\n\\nA further aspect of the invention relates to a method of outside coating a hollow fiber membrane with a thin film composite (TFC) layer comprising aquaporin water channels, said method comprising the steps of: \\n\\na) obtaining an aquaporin vesicles suspension (proteoliposomes or \\n\\nproteopolymersomes), \\n\\nb) preparing an aqueous solution of a di- or triamine, \\n\\nc) dissolving a di- or triacyl halide in an apolar organic solvent, \\n\\nd) preparing a mixture of amine and aquaporin vesicle by dissolving/mixing the vesicles preparation from step a) with the solution from step b), \\n\\ne) passing the hollow fiber membrane through the mixture from step d), f) removing excess aqueous solution, \\n\\ng) passing the hollow fiber membrane through the acyl halide solution from step c) to allow an interfacial polymerization reaction to take place, and \\n\\nh) rinsing the hollow fiber membrane with an aqueous solvent, e.g. by passing the hollow fibre through a water bath.\\n\\n\\nIn the above described methods of coating the hollow fiber membrane and preparing the hollow fiber module, the steps a)-c) may be performed in any convenient order. Also the step c) may be performed before or after step d).\\n\\n\\nIn exemplary embodiments, said liposomes used in the preparation of the HF module of the invention are prepared from lipids such as DPhPC, DOPC, mixed soy bean lipids, such as asolectin and soy lecithin, or E. coli mixed lipids; and said polymersomes may comprise triblock copolymers of the hydrophile-hydrophobe-hydrophile (A-B-A or A-B-C) type or diblock copolymers of the hydrophile-hydrophobe type (A-B).\\n\\n\\nIn a further embodiment said polymersomes may comprise a combination of triblock copolymers of the hydrophile-hydrophobe-hydrophile type and diblock copolymers of the hydrophile-hydrophobe type. In the combinations the diblock copolymers may comprise from about 10 mole % to about 60 mole %, such as from about 25 mole % to about 50 mole %. \\n\\nSaid aquaporin water channels are preferably AqpZ channels, but, in principle, all water selective aquaporins, e.g. such as aquaporin Z (AqpZ), Aqpl, GlpF or SoPIP2;l , are useful in the invention.\\n\\nSaid TFC layer is preferably formed through interfacial polymerization of an aqueous solution of an amine with a solution of an acid chloride in an organic solvent, and wherein the aquaporin water channel vesicles are incorporated in said aqueous solution. \\n\\nSaid aquaporin water channels are preferably incorporated in vesicles before \\n\\nincorporation into the TFC layer of the hollow fiber membrane of the invention, and said vesicles may be in the form of liposomes or polymersomes, where said liposomes are prepared from lipids such as DPhPC, DOPC, mixed soy bean lipids, or E. coli mixed lipids, and said polymersomes comprise triblock copolymers of the hydrophile-hydrophobe-hydrophile (A-B-A or A-B-C) type or diblock copolymers of the hydrophile-hydrophobe type (A-B). In a further embodiment said polymersomes may comprise a combination of triblock copolymers of the hydrophile-hydrophobe-hydrophile type and diblock copolymers of the hydrophile-hydrophobe type.\\n\\n\\nThe HF membrane of the invention has preferably a TFC layer formed through interfacial polymerization of an aqueous solution of an amine with a solution of an acid chloride in an organic solvent, and wherein the aquaporin water channel vesicles are incorporated in said aqueous solution.\\n\\n\\nIn one embodiment of the method of preparing the HF module of the invention the fibers are gas purged to blow off excess water in step f) and the module is held upside down in step f).\\n\\n\\nIn a further aspect of the present invention, a hollow fiber module having high water permeability and small pore sizes, such as having a pore diameter of less than about 5 to 10 nm, such as equal to or less than about 1 nm, is provided. Formation of a separation layer in the form of a thin film layer as known in the art onto the surface of a support membrane fiber results in changes to the water transport mechanism. Instead of water transport taking place by normal diffusion through the pores of the support membrane, another type of water transport takes place through the thin film layer as is known from this type of reverse osmosis membranes, where membrane permeability is limited. The \\n\\nnonporous nature of the thin film separating layer results in transport of water requiring\\n\\n\"jump diffusion\" as described in Kotelyanskii et al. 1998. Thus, thin film modification of water membranes have mainly found use in reverse osmosis, where a hydrostatic pressure is required to force the water through the membrane, and the obtained advantage lies in the improved separation of unwanted solutes in the water to be filtered. These conventional membranes for reverse osmosis have effectively 100-200 nm thick non-porous layers supported by a porous material. Water permeation in these membranes occurs as a diffusion process through the non-porous layer established via the appearance and disappearance of interstitial spaces. The HF module of the present invention may be further improved relative to the prior art reverse osmosis membranes by having aquaporin water channels incorporated in the thin film layer making it a thin film composite (TFC) layer. The incorporation of aquaporins have the added benefit of providing a selective water transport through its pores having a diameter of only 2.4 A at its narrowest passage (AqpZ pore, cf. Wang et al. 2005) where an efficient single file water transport takes place. The HF module of the invention combines the advantages of having a thin film separation layer together with aquaporin water channels thus providing improved separation as well as water flux through Angstrom sized pores making the HF module suitable for both reverse osmosis, forward osmosis, assisted forward osmosis, \\n\\nnano filtration etc.\\n\\n\\nDEFINITIONS \\n\\nThe term \"hollow fiber membrane\" and \"HF membrane\" as used herein refers to any type of capillary membrane which can be used for liquid filtration purposes.\\n\\nThe term \"polyethersulfone\" as used herein refers to a membrane material used in the fabrication of hollow fiber modules. An example is the membrane material UltraPES™ marketed by Membrana GmbH. A cross section microscope photo of an UltraPes™ fiber is shown in Fig. 2, cf. Membrana GMBH.\\n\\n\"Aquaporin\" as used herein refers to selective water channel proteins, including AqpZ and SoPIP2;l prepared according to the methods described by Maria arlsson et al. \\n\\n(FEBS Letters 537 (2003) 68-72) or as described in Jensen et al. US 2012/0080377 Al . \"Asolectin\" as used herein refers to a soybean lecithin fraction [IV-S], which is a highly purified phospholipid product containing lecithin, cephalin, inositol phosphatides & soybean oil (synonym: azolectin).\\n\\n\"Block copolymer\" as used herein refers to membrane forming or vesicle forming di- and tri-block copolymers having both hydrophilic (A or C) and hydrophobic (B) blocks; the diblock copolymers being of the A-B or C-B type which are able to form bilayers and the triblock copolymers being of the A-B-A or A-B-C type that form monolayers by self assembly, where all of the membranes have the hydrophobic layer in the middle.\\n\\n\\nExamples of useful diblock copolymers and examples of useful triblock copolymers are the following:\\n\\n\\n\\n\\n\\nwhere EO-block-DMS-block, such as E025DMSg, represents poly(dimethylsiloxane-block-ethylene oxide-block),\\n\\n\\nEO-block-BO-block, such as EOi5B016, represents poly(butylene oxide-block-ethylene oxide-block), and MOXA-block-DMS-block-MOXA-block, such as MOXA6DMS35MOXA5, represents poly(2-methyloxazoline-block-dimethylsiloxane-block-2-methyloxazoline). The diblock and triblock copolymers can be used as single components or as mixtures in the creation of biomimetic membranes, such as vesicles or planar membranes, for incorporation of the aquaporins having amphiphilic properties due to their native transmembrane properties and functions. \\n\\n\"Liquid membrane\" as used herein refers to membrane systems as disclosed in \\n\\nWO2010/146365 (Aquaporin A/S) and WO 2012/080946 (Aquaporin A/S). Said liquid membrane is an integral component of the TFC HF membranes of the invention wherein it is immobilized or encapsulated.\\n\\n\\nThe term \"assisted forward osmosis\" (or \"pressure assisted forward osmosis\") as used herein refers to the concept of applying a mechanical pressure to the feed side of the membrane to enhance the water flux through synergising the osmotic and hydraulic driving forces.\\n\\n\\n\"Thin-film-composite\" or (TFC) Hollow Fiber Membranes as used herein are prepared using an amine reactant, preferably an aromatic amine, such as a diamine or triamine, e.g.1,3 -diaminobenzene (m-Phenylenediamine > 99%,e. g. as purchased from Sigma-Aldrich) in an aqueous solution, and an acyl halide reactant, such as a di- or triacid chloride, preferably an aromatic acyl halide, e.g. benzene-1,3, 5-tricarbonyl chloride (CAS No. 84270-84-8, trimesoyl chloride (TMC), 98%, e.g. as purchased from Sigma- Aldrich) dissolved in an organic solvent where said reactants combine in an interfacial \\n\\npolymerization reaction, cf. US 4,277,344 which describes in detail the formation of a composite membrane comprising a polyamide laminated to a porous membrane support, at the surface of the support membrane, e.g. a polyethersulfone membrane. Benzene-1,3, 5-tricarbonyl chloride is dissolved in a solvent, such as a C6 - C12 hydrocarbon including hexane (>99.9%, Fisher Chemicals), heptane, octane, nonane, decane etc. \\n\\n(straight chain or branched hydrocarbons) or other low aromatic hydrocarbon solvent, e.g. Isopar™ G Fluid which is produced from petroleum-based raw materials treated with hydrogen in the presence of a catalyst to produce a low odour fluid the major components of which include isoalkanes. Isopar™ G Fluid: Chemical Name: Hydrocarbons, C10-C12, isoalkanes, < 2% aromatics; CAS No: 64742-48-9, chemical name: Naphtha (petroleum), hydrotreated heavy (from ExxonMobil Chemical). Alternatives to the reactant 1,3-diaminobenzene include diamines such as hexamethylenedi amine etc., and alternatives to the reactant benzene- 1,3, 5-tricarbonyl chloride include a diacyl chloride, adipoyl chloride etc. as known in the art.\\n\\n\\n\"Gas\" as used herein means any gaseous fluid, such as inert gases, dinitrogen, \\n\\natmospheric air, etc. that can be used for blowing off the solvent. \\n\\nProteoliposomes as used herein typically have a lipid to protein ratio (LPR calculated on a mole basis) of between 25 to 500, such as about 100 to about 200.\\n\\nProteopolymersomes as used herein typically have a polymer to protein ratio (POPR calculated on a mole basis) of between 25 to 500, such as about 50 to about 100 when using a triblock copolymer and a polymer to protein ratio of between 25 to 500, such as about 100 to about 200 when using a diblock copolymer.\\n\\nIn a preferred embodiment of the invention the hollow fiber bundles comprise a polyethersulfone (UltraPES™) support material in the form of a hydrophilic capillary membrane material having the following characteristics (mean values are given):\\n\\n\\nPhysical characteristics: Wall thickness 220 &#956;&#951;&#953; ± 15 &#956;&#953;&#951;; inner diameter 760&#956;&#951;&#953; ±30 &#956;&#951;&#953;; tensile strength > 410 cN; elongation at break > 40 %; explosion pressure > 12 bar; implosion pressure > 7 bar; Minimal pore size of 6 - 7 nm.\\n\\n\\nMembrane performance characteristics: Transmembrane flow (water, 25°C) > 0.65 ml/[min x cm2 x bar]; molecular weight cut off MWCO (dextran, 90%, 0 bar) 65 kD ± 20 kD.\\n\\n\\nThe characteristics given are representative of a preferred UltraPES material provided by Membrana GmbH, Oehder StraBe 28, D - 42289 Wuppertal, Germany.\\n\\nIn another preferred embodiment of the invention the hollow fibre bundles comprise the polyethersul one MicroPES® , such as the TF 10 version also provided by Membrana GmbH, support material, which differs from the UltraPES material in having a \\n\\nTransmembrane flow (water, 25 °C) > 35 ml/[min x cm2 x bar]; wall thickness of 100 &#956;&#960;&#953; ± 25 &#956;&#951;&#953;; an inner diameter of 300&#956;&#951;&#953; ± 40 &#956;&#951;&#953;; tensile strength of > 50 cN; elongation at break > 30 %; maximum pore size of 0.5&#956;&#951;&#953; ± 0.1 &#956;&#951;&#953;.\\n\\n\\nEXPERIMENTAL EXAMPLES \\n\\nPreparation of lmg/mL Asolectin proteoliposomes, and lipid to protein ratio (LPR) 200 using AqpZ Mw 27233 according to the following protocol: \\n\\n1) Fill a 50 mL glass evaporation vial with 5 mL of a 2 mg/mL stock solution of asolectin (mW 786.11 g/mol, Sigma) in CHC13. \\n\\n2) Evaporate the CHC13 using a rotation evaporator for at least 2h to complete dryness.\\n\\n3) Add 0.8 mL of buffer solution (1.3% octylglucoside (OG) in PBS pH 7.4) to rehydrate the film obtained in the evaporation vial in step 2. \\n\\n4) Shake the vial at maximum rpm on a platform shaker (Heidolph orbital platform shaker Unimax 2010 or equivalent) until the lipid is dissolved. \\n\\n5) Add 1.73 mg of AqpZ in a protein buffer containing Tris pH8, glucose and OG, 10 mg/mL, and rotate vial for 15 min at 200rpm, the AqpZ being prepared according to description herein. \\n\\n6) Slowly add 9.03 ml PBS (pH 7.4 without OG), and shake vial for 15 min at 200rpm.\\n\\n7) Freeze/thaw the combined solution/suspension on dry ice/40 °C water bath for three times to eliminate possible multilamellar structures. \\n\\n8) Add 250mg of hydrated Biobeads (SM2 from BioRad) and rotate vial for lh at 200rpm at 4°C to adsorb detergent (OG). \\n\\n9) Add further 250mg of hydrated Biobeads and rotate vial for 2 to 3 days at 200rpm at 4°C. \\n\\n10) The Biobeads with adsorbed OG are then removed by pipetting off the suspension.\\n\\n1 1) Extrude the obtained suspension for about 11 times through a 200nm polycarbonate filter using an extruder (such as an EmulsiFlex-C5 from Avestin, Canada) at least 1 time and up to about 22 times to obtain a uniform proteoliposome suspension (vesicles) suspension.\\n\\n\\nProtocol for lmg/ml proteo-polymersomes, protein to polymer ratio (POPR) 50 \\n\\nPolyoxazoline Based Triblock Copolymers, Poly(2-methyl oxazoline-b-dimethyl siloxane-b-2-methyl oxazoline, Moxa 12: DMS 35, Mw 3510) (P3691 purchased from Polymer Source™, Quebec, Canada), AqpZ Mw 27233 \\n\\n1) Fill a 50 ml glass evaporation vial with 5ml of a 2 mg/ml stock solution of P3691 in CHCI3. \\n\\n2) Evaporate the CHC13 using a rotation evaporator for at least 2h to complete dryness.\\n\\n3) Add 3.0 mL of buffer solution (1.3% O.G.; 200mM Sucrose; lOmM Tris pH 8; 50mM NaCl) to rehydrate the film obtained in the evaporation vial in step 2. \\n\\n4) Shake the vial at 200 rpm on a platform shaker (Heidolph orbital platform shaker Unimax 2010 or equivalent) for 3 hours to obtain dissolution of the copolymer. \\n\\n5) Add 1.55mg &#956;&#912;, of AqpZ in a protein buffer containing Tris, glucose and OG, and rotate vial over night at 200rpm and 4°C. \\n\\n6) Add 6.88 ml buffer (lOmM Tris pH 8; 50mM NaCl) slowly while mixing up and down with pipette. \\n\\n7) Add 180mg hydrated Biobeads and rotate for lh at 200rpm. \\n\\n8) Add 210mg hydrated Biobeads and rotate for lh at 200rpm. \\n\\n9) Add 240mg hydrated Biobeads and rotate O.N. at 200rpm 4°C. \\n\\n10) Add 240mg hydrated Biobeads and rotate O.N. at 200rpm 4°C. \\n\\n11) The Biobeads with adsorbed OG are then removed by pipetting off the suspension. 12) Extrude the suspension for about 21 times through a 200nm polycarbonate filter using an extruder, such as from at least 1 time and up to about 22 times to obtain a uniform proteopolymersome suspension (vesicles) suspension.\\n\\n\\nExample 1. Preparation of a hollow fiber module wherein the inside surface of the fibres has been functionalised with immobilised AqpZ vesicles \\n\\nUsing a hollow fiber module having polyethersulfone membranes, such as a custom-made module, such as having 9 fibers corresponding to about 10 cm2 outside area and 5 cm2 inside area, or such as having a membrane area of up to 0.5 m which may correspond to several hundred fibers depending on module length (Membrana GmbH, Wuppertal, Germany), the module being prepared essentially as described by Sukitpaneenit et al. 2011, a thin film composite layer is prepared on the inside fiber surface through interfacial polymerization involving the following steps: \\n\\n1) Obtaining 4 mL of AqpZ vesicles as prepared in the example above. \\n\\n2) Dissolve 250 mg of 1,3-diaminobenzene in 6 mL of MilliQ water to obtain a solution of 4.2% (w/w) concentration. \\n\\n3) 75 mg ofbenzene-l,3,5-tricarbonyl chloride is dissolved in 50 mL of hexane to obtain a final concentration of 0.15% (w/v) \\n\\n4) A 1,3-diaminobenzene/ AqpZ vesicle mixture is prepared by dissolving/mixing 4 mL of the vesicles preparation from step 1 with 6 mL of the solution from step 2. \\n\\n5) The mixture obtained in step 4 is constantly pumped through the module for 2 minutes using end inlet 1 (or inlet 2), cf. Fig. 1. \\n\\n6) Excess 1,3-diaminobenzene is removed by a constant air purging of the lumen side of the fibers for 2 minutes using, e.g., inlet 1, cf. Fig. 1, preferably holding the module upside down. \\n\\n7) A constant flow of the benzene- 1,3, 5 -tricarbonyl chloride solution from step 3 is then injected into the module through inlet 1 for approximately 30s using a syringe pump, e.g.from TSE systems, cf. [retrieved on 2012-1 1-09 from the Internet: (<URL: \\n\\nhttp://www.tse-systems.com/products/other-products/pumps-infusion/index.htm)] to allow the interfacial polymerization reaction to take place. \\n\\n8) Finally, the module is preferably rinsed with MilliQ water, approximately 10 mL are used, by injection through side inlet 3 and 4. \\n\\nAfter filling it with water the module is sealed with the white sealing caps (5), cf. \\n\\nfig. 1, to prevent it from drying out (the sealing caps are part of the module and it is delivered with them). \\n\\nAlternatively, steps 2 and 3 are as described below where all other steps are the same as shown above: \\n\\n2) Dissolve 1,3-diaminobenzene in MilliQ water to obtain a solution of 4.2% (w/w) concentration. \\n\\n3) benzene-l,3,5-tricarbonyl chloride is dissolved in a solvent such as hexane or isoalkane hydrocarbon solvent to obtain a final concentration of 0.15% (w/v).\\n\\n\\nExample 2. Preparation of a hollow fiber module wherein the inside surface of the fibres has been functionalised with immobilised AqpZ vesicles \\n\\nUsing the same hollow fiber module as in Example 1 a thin film composite layer is prepared on the inside fiber surface through interfacial polymerization involving the following steps: \\n\\n1 ) Obtaining 4 mL of AqpZ vesicles as prepared in the example above. \\n\\n2) Dissolve 250 mg of 1,3-diaminobenzene in 6 mL ofMilliQ water to obtain a solution of 4.2% (w/w) concentration. \\n\\n3) 75 mg of benzene-l ,3,5-tricarbonyl chloride is dissolved in 50 mL of hexane to obtain a final concentration of 0.15% (w/v) \\n\\n4) A 1,3-diaminobenzene/ AqpZ vesicle mixture is prepared by dissolving/mixing 4 mL of the vesicles preparation from step 1 with 6 mL of the solution from step 2. \\n\\n5) The mixture obtained in step 4 is constantly pumped through the module for 2 minutes using end inlet 1 (or inlet 2), cf. Fig. 1. \\n\\n6) Excess 1,3-diaminobenzene is removed from the module by a constant stream of an organic fluid such as hexane for lmin through inlet 1 using a syringe pump. \\n\\n7) A constant flow of the benzene-l,3,5-tricarbonyl chloride solution from step 3 is then injected into the module through inlet 1 for approximately 30s using a syringe pump, e.g.from TSE systems, cf. [retrieved on 2012-11-09 from the Internet: (<URL: \\n\\nhttp://www.tse-systems om/products/other-products/pumps-infusion/index.htm)] to allow the interfacial polymerization reaction to take place. \\n\\n8) Finally, the module is preferably rinsed with MilliQ water, approximately 10 mL are used, by injection through side inlet 1 and 3. \\n\\nAfter filling it with water the module is sealed with the white sealing caps (5), cf. \\n\\nfig. 1 , to prevent it from drying out (the sealing caps are part of the module and it is delivered with them). \\n\\nAlternatively, steps 2 and 3 are as described below where all other steps are the same as shown above: \\n\\n2) Dissolve 1,3-diaminobenzene in MilliQ water to obtain a solution of 4.2% (w/w) concentration. \\n\\n3) benzene-1 ,3,5-tricarbonyl chloride is dissolved in a solvent such as hexane or isoalkane hydrocarbon solvent to obtain a final concentration of 0.15% (w/v).\\n\\n\\nExample 3. Preparation of a hollow fiber module wherein the inside surface of the fibres has been functionalised with immobilised AqpZ vesicles \\n\\nUsing the same hollow fiber module as in Example 1 a thin film composite layer is prepared on the inside fiber surface through interfacial polymerization involving the following steps and using a syringe pump to push solutions through the module: \\n\\n1) Obtaining 4 mL of AqpZ vesicles as prepared in the example above. \\n\\n2) Dissolve 250 mg ofl,3-diaminobenzene in 6 mL ofMilliQ water to obtain a solution of 4.2% (w/w) concentration. \\n\\n3) 75 mg of benzene-1, 3, 5-tricarbonyl chloride is dissolved in 50 mL of hexane to obtain a final concentration of 0.15% (w/v). \\n\\n4) A 1,3-diaminobenzene/ AqpZ vesicle mixture is prepared by dissolving/mixing 4 mL of the vesicles preparation from step 1 with 6 mL of the solution from step 2. \\n\\n5) Add the solution from step 2 through the inside of the fibers while holding the module vertically with inlet down making sure that the air is let out); the solution can preferably be pumped using a flow rate of about 5 mL/min and continue pumping the solution through for 2 min, e. g. such as starting timing immediately after the solution could be seen in upper end of module. \\n\\n6) Disconnect the module from the syringe pump and turn it around to have excess solution flow out into collection glass. \\n\\n7) Connect the module upside down to air and slowly start air flow until 10 L/min is reached; let air flow for 2 min. \\n\\n8) Connect the module to a benzene- 1,3,5-tricarbonyl chloride solution syringe, hold the module in vertical position and start benzene- 1,3,5-tricarbonyl chloride/hexane flow. e.g. while keeping a flow rate of about 15 mL/min. \\n\\n9) Disconnect module from hexane syringe and turn upside down to get last hexane out; connect to air and purge at about 10 L/min for 5-10 s. \\n\\n10) Fill module with MilliQ by sucking it in from a glass container. \\n\\nAlternatively, steps 2 and 3 are as described below where all other steps are the same as shown above: \\n\\n2) Dissolve 1,3-diaminobenzene in MilliQ water to obtain a solution of 4.2% (w/w) concentration. \\n\\n3) Benzene- 1 ,3,5-tricarbonyl chloride is dissolved in a solvent such as hexane or isoalkane hydrocarbon solvent to obtain a final concentration of 0.15% (w/v).\\n\\n\\nAlternatively, in the pHF22 protocol we use a syringe pump to push solutions through the module, such as a MicroPES-TFlO HF module, then after obtaining 4 mL of AqpZ vesicles as prepared in the example above, follow the steps below: \\n\\n1) Dissolve MPD in MilliQ water and add the AqpZ vesicles to get a 2.5%(W/W) concentration of MPD in water/vesicle solution \\n\\n2) Dissolve TMC in an organic solvent, such as hexane or an isoalkane hydrocarbon solvent, to a final concentration of 0,15% W/V \\n\\n3) push MPD solution through the inside of the fibers while holding it vertically with inlet down (while filling the module repeatedly shake it to get the air out); 5 mL/min flow rate 4) continue pushing MPD solution through for 1 min (time starts after MPD solution could be seen in upper end of module) and then let it soak with MPD solution inside for 1 min \\n\\n5) disconnect module from syringe and turn it around to have excess MPD flow out into collection glass \\n\\n6) connect the module upside down (meaning end with number on top) to air and slowly start air flow; dry with controlled air stream for 1 to 2 min and turn module in between 7) connect to TMC solution, hold vertical (numbered end on bottom) and start TMC solution flow (flowrate: lO mL/min) \\n\\n8) let solution run through the fibers for 45 s (after the module is filled, it can be tilted back to horizontal position) \\n\\n9) disconnect module from syringe and turn upside down to get last TMC solution out; connect to air and purge at 10 L/min for 5-10 s \\n\\n10) fill module with MiliQ by sucking it in from a glass\\n\\n\\nFollowing the various methods outlined above a TFC-aquaporin modified hollow fiber module is obtained where the inner surface of the fibers have acquired a novel microstructure as shown in Fig. 3, where (1) refers to the TFC layer ~200nm and (2) refers to the support membrane of 220 &#956;&#951;&#953;, (1) and (2) together represents a cross section of the hollow fiber wall; (3) schematically represents the bilayer membrane in the case of lipids and diblock copolymers as amphiphilic membrane forming materials having hydrophilic head groups and hydrophobic tail groups. Feature (3) would show a monolayer having a hydrophobic middle portion and hydrophilic end portions or would show a type of bilayer where the triblock copolymers assume a horseshoe conformation or mixtures of both when triblock copolymers are used for the amphiphilic membrane material. (4) Represents the aquaporin protein where its tetrameric form is shown. \\n\\nHowever, the protein may also be present as a monomer or as a dimer, both of which are also water channels.\\n\\n\\nFiltration results using forward osmosis \\n\\nTables 1 and 2 below show filtration results in the form of measured water flux, Jw, and measured reverse salt flux, Js, for HF modules prepared according to the invention using a feed solution of 10 &#956;&#924; calcein (CAS No. 1461-15-0, Mw 622.55) and a draw solution of 2 M NaCl both in deionized water (MilliQ water) and where the TFC-aquaporin layer is formed on the inside of hollow fibers (lumen) and the draw solution is applied to the outside or inside of the fibers. Co-current or counter-current flow was used. Referring to Fig. 1 : Typically, feed solution was pumped through inlet (1) and out through (2), and draw solution was pumped through inlet (3) and out through (4). In five experiments a counter-current flow was used, cf. Tables 1 and 2 and description below. The water channel protein AqpZ was used in all experiments, and both a lipid (asolectin) and various block copolymers (P3691, P8061) were vesicle membrane materials. \\n\\nEach experiment is characterised by the water flux (Jw), the reverse salt flux (Js) and the calcein rejection. The water flux describes how much water is transported over a certain amount of membrane area in a given time (usually L/m2h) and is measured by monitoring the weight loss in the feed solution. The reverse salt flux characterises the amount of draw solute that diffuses back into the feed solution. It is an indicator on how salt-tight a membrane is. The Js is determined by measuring the conductivity changes in the feed solution. The calcein rejection is used to determine the forward rejection properties of a membrane. Here, a fluorescent marker, that is easily detectable by a desktop fluorometer (e.g. Qubit fluorometer, Invitrogen), is added to the feed solution. By measuring its concentration in draw we can determine how much of the marker is rejected.\\n\\n\\nWater flux is calculated as following:\\n\\nJw=Vt/(A*t) ; [L/m2h],\\n\\nwhere Vt is the transported Volume, A the active membrane area and t the time in hours. To determine the reverse salt flux we have to measure the conductivity in the feed solution. With the help of a calibration curve we can then relate the conductivity to a salt concentration and thus calculate the reverse salt flux as follows:\\n\\n\\nJs- (cf,end*Vf,end-cf,start*Vf,start)/(A*t) ; [g/m2h],\\n\\nwhere Vf marks the start and end volume and cf the start and end concentration of salt in feed. \\n\\nThe calcein rejection is approximated by:\\n\\nca=l-((Vd,end*cca,d,end-Vd,start*cca,d,start)/(Vt*cca,f,start))\\n\\nWhere Vd is the start and end draw volume and cca,d the calcein reads in the draw solution. The starting concentration of calcein in feed (cca,f) is taken as a constant. This is an approximation because a membrane that rejects calcein will up-concentrate the calcein concentration in feed. However, this can be tolerated because by leaving the start concentration constant in the calculation we underestimate the total rejection, which is \\n\\nacceptable. \\n\\nTable 1\\n\\n\\n\\n\\n\\n\\nNotes: a counter-current flow; ab draw on inside & counter-current flow; d according to Ex. 1. HF module No. 12-0644 has been modified with thin film layer only without vesicles and/or protein and thus represents prior art as disclosed by Sukitpaneenit & Chung 2012.\\n\\n\\nTable 1 clearly shows that when using the HF module of the invention it is possible to obtain a greater water flux, Jw, of up to 3 L/m2h above the flux obtainable for a thin film modified HF module having 9 fibers while still maintaining a good Js/Jw ratio of as low as about 0.22. This will be an advantage for filtration purposes, where a high water flux is desirable while less efficient salt retention can be tolerated, e.g. in the treatment of wastewater. The results according to the invention shown in Table 1 are all obtained using counter-current flow, which could prove an advantage for high water flux. \\n\\nTable 2\\n\\n\\n\\n\\n\\nNotes: a counter-current flow; c draw on inside; dd prepared according to Ex. 3. HF module No. 12-0644 has been modified with thin film layer only without vesicles and/or protein and thus represents prior art as disclosed by Sukitpaneenit & Chung 2012.\\n\\n\\nTable 2 clearly shows that using the HF module of the invention it is possible to obtain an increase in reverse salt retention, Js, of about 0.5 g/m h corresponding to a 25 % increase compared to the reverse salt retention obtainable for a thin film modified HF module having 9 fibers while still maintaining a good water flux of about 8 to 9 L/m h. These results are obtained using co-current flow with the draw solution on the inside of the HF module fibers. All of the above calcein rejection values are better than 99 % showing that the HF modules used are extremely tight (no membrane leakage). The HF module of the invention can be used with both co-current flow and counter-current flow, and as seen in the results above it can be preferred to have counter-current flow. In that case the differences in osmotic pressure are more evenly distributed over the whole length of the fiber. When both feed and draw solutions enter at the same side (co-current flow), then water is immediately pulled out of the feed stream into the draw stream, and along the fiber the difference in osmotic pressure will decrease rapidly (feed is concentrated and draw diluted). When the HF module is now operated with counter-current flow, then we have a cleaner feed meeting a diluted draw in one end and a high osmotic draw meeting a weakly osmotic feed (salt contaminated) at the other end. So the osmotic pressure difference between both liquids is closer to being the same along the length of the fiber. \\n\\nThis might favour counter-current flow. However, what speaks in favour of co-current flow is that the pressure which is generated by pumping inside is met with an equal pressure that is generated by pumping on the outside of the fiber.\\n\\nTable 3 showing results from 4 runs using the alternative method described above (PHF22)\\n\\n\\n\\n\\n\\n\\nTable 4 showing results from 4 runs using the alternative method described above (PHF22)\\n\\n\\n\\n\\n\\nTable 5 showing results from 4 runs using the alternative method described above (PHF22)\\n\\n\\n\\n\\n\\n\\nThe inside coating of HF MicroPES TF10 5 cm2 active membrane area hollow fibre modules resulted in high reproducibility; All experiments in Tables 3 and 4 have comparable Js/Jw ratios with varying Jw and Js which can be due to \\n\\ndifferences/tolerances in experiments, differences in measuring accuracy, and possibly due to the fact that the coating was a hand-made process. Thus, the two different experiments resulted in HF modules having comparable Js/Jw but varying average ranges of Jw and Js, cf. Table 3 showing experimental results of moderate Jw and low Js, and Table 4 showing experimental results of high Jw and moderate Js.\\n\\n\\nExample 4. Preparation of a hollow fiber module wherein the outside surface of the fibres has been functionalised with immobilised AqpZ vesicles \\n\\nUsing a hollow fiber module having polyethersulfone membranes, such as a custom-made module, such as having 9 fibers corresponding to about 10 cm2, or such as having a membrane area of up to 0.5 m2 which may correspond to several hundred fibers depending on module length (Membrana GmbH, Wuppertal, Germany), a thin film composite layer being prepared on the outside fiber surface through interfacial polymerization involving the following steps of protocol PHF21 : \\n\\n1) Obtain 4 mL of AqpZ vesicles as prepared in the example above. \\n\\n2) Dissolve 1,3-diaminobenzene in MilliQ water to obtain a solution of 4.2% (w/w) concentration. \\n\\n3) benzene- 1 , 3, 5-tricarbonyl chloride is dissolved in an organic solvent, such as hexane or an isoalkane hydrocarbon solvent,to obtain a final concentration of 0.15% (w/v) \\n\\n4) A 1,3-diaminobenzene/AqpZ vesicle mixture is prepared by dissolving/mixing 4 mL of the vesicles preparation from step 1 with 6 mL of the solution from step 2. \\n\\n5) fill solution from step 4. into the module on the outside of the fibers (side inlets of the module); flowrate: 5mL/min \\n\\n6) stop flow after 1 min and leave fibers soaking for 1 min \\n\\n7) empty the module and purge with air to get leftover MPD solution out \\n\\n8) use air flow to remove surface water from the fibers (air flow rate 25 L/min) \\n\\n9) pump solution from step 3. into the module using a flow rate of 15 mL/min \\n\\n10) after module is filled continue pumping for 30s \\n\\n11) disconnect module from syringe and turn upside down to get last solution out; \\n\\nconnect to air and purge at 10 L/min for 5-10 s \\n\\n12) fill module with MiliQ by sucking it in from a glass\\n\\n\\nTable 5 showing results from 4 runs using the method described above (PHF21)\\n\\n\\n\\n\\n\\n\\nThe outside coating of HF UltraPES TF10 5 cm2 active membrane area hollow fibre modules resulted in high reproducibility: The experiments in Table 5 show sets of 2 (roughly 2 x 8 [L/m2h] and 2 x 6 [L/m2h]) that have comparable Jw and Js values. \\n\\nExample 5. Inside coating for creation of TFC layer on fibres in MicroPES TF10 HF module \\n\\nProtocol HF24 for the inside coating of 100cm modules using a syringe pump to suck solutions through the module: \\n\\nUse a syringe pump to pump solutions through the module \\n\\n1 ) pre-soak modules with MiliQ at least over night \\n\\n2) Obtain 16 mL of AqpZ vesicles as prepared in the example above. \\n\\n3) Dissolve 1,3-diaminobenzene in MilliQ water to obtain a solution of 4.2% (w/w) concentration. \\n\\n4) 75 mg of benzene- 1,3,5 -tricarbonyl chloride are dissolved in 50 mL of hexane to obtain a final concentration of 0.15% (w/v) \\n\\n5) A 1,3-diaminobenzene/ AqpZ vesicle mixture is prepared by dissolving/mixing 16 mL of the vesicles preparation from step 1 with 24 mL of the solution from step 3. \\n\\n6) pump solution from step 5. through the module for as long as it takes until no more bubbles come out (tap it continuously to shake bubbles out) at 10 mL/min; keep the module vertically \\n\\n7) Let solution soak in fibers for 1 min \\n\\n8) disconnect module from syringe and let excess solution flow out into collection glass\\n\\n9) connect the module upside down to air and slowly start air flow until 20 L/min are reached \\n\\n10) dry with controlled air stream for 3 to 5 min and turn module in between \\n\\n11) push solution from step 4. through the fibers at a constant flow (flowrate: 15 mL/min) for 45s (starting from when TMC enters the fibers) \\n\\n12) empty the module by disconnecting the tube \\n\\n13) blow air through the fibers for 5 to 10 s to eject leftover solution \\n\\n14) fill fibers and module with MilliQ \\n\\nTable 6 showing results from 2 runs using the method described above (PHF24)\\n\\n\\n\\n\\n\\nThe inside coating of HF MicroPES TF10 100 cm active membrane area hollow fibre modules resulted in high reproducibility, cf. Tables 6 and 7showing experimental results with 2M NaCl as draw solution and Table 6 showing experimental results with 1M NaCl draw solution where a reduction in water flux is notable in contrast to a minor reduction in reverse salt flux \\n\\nExample 6. Hollow fibers outside continuous coating tests \\n\\nPurpose of this experiment is to establish a method of continuous coating on the outside of hollow fiber membranes via an automatized production process.\\n\\nMaterials \\n\\nThe machine and fibers are provided by Membrana and the coating chemicals and AqpZ vesicles are the same as used in the previous examples. The different hollow fiber membranes tested are MicroPES® TF10 and the DuraPES® 0.7 (Membrana GmbH, Wupperthal, Germany). Thus, the final coating holds an immobilized liquid membrane component containing aquaporin proteins.\\n\\n\\nMethods \\n\\nFigure 4 illustrates in the form of a sketch the automatized continuous outside coating of hollow fibers (shown as a narrow line). In the figure: (1) is a coil of uncoated hollow fibers, preferably of a porous polyethersulfone (or polysulfone and the like) material.\\n\\nFrom here they are transported into the aquaporin liquid membrane/MPD bath (2) where the aquaporin vesicles will soak into the fiber and attach to its surface. Excess \\n\\nMPD/aquaporin solution is removed during a drying step (3) where an air knife can be used to enhance excess solution removal. From here the fiber passes into the TMC/ isoalkane hydrocarbon solvent bath where the interfacial polymerization takes place (4). Thus the aquaporin vesicles (proteopolymersomes of the liquid membrane) are encapsulated due to the TFC layer formed on the fiber. A drying step (5) ensures that all of the organic solution is evaporated before dipping the fiber into a water bath to remove left-over chemicals (6). Now the fiber is wound up on a new coil. The coated hollow fibers are then cut to the appropriate length and built into modules suitable for FO water extraction and separation purposes.\\n\\n\\nExample 7. Hollow fiber module retention and up-concentration assay of two small peptides. \\n\\nIn this example we used HF modules having 5cm2 active area prepared according to Example 3 above.\\n\\n\\nPeptide A: GGG SGA G T MW 0.692 kDa \\n\\n100 mL of GGG SGA GKT peptide (MW 0.692 kDa) in TES buffer (feed solution) was filtered through a forward osmosis HF module until desired up-concentration \\n\\n(approximately 20x) using 1M NaCl as draw solution. The weight of the up-concentrated sample was measured to determine the volume reduction from the initial start sample. 10 &#956;&#912; of the up-concentrated sample was mixed with 90 &#956;&#912; of 1 Ox TES buffer to eliminate the up-concentration factor of the buffer when determining the end concentration of the up-concentrated peptide sample. The total sample of 100 &#956;&#912; was then mixed with 100 &#956;&#912; of LavaPep quantification kit, incubated for 1 h in room temperature and then the fluorescence counts were read in a QuBit fiuorometer (Invitrogen). The fluorescence counts were then compared to a standard curve where the actual concentration of the peptide sample was determined. From the same initial up-concentrated peptide sample, three samples (n=3) were prepared and measured in the Qubit and the mean fluorescent count number was used to determine the concentration from the standard curves. The sample volume was concentrated about 20 times, and the peptide A was up-concentrated about 18 to 19 times.\\n\\n\\nPeptide B: AGKT MW 0.375 kDa (experimental conditions closely corresponding to those described above for peptide A). \\n\\n100 mL of AGKT peptide (MW 0.375 kDa) in TES buffer was run until desired up-concentration (approximately 20x) with the FO hollow fiber module. The mass of the up-concentrated sample was measured to determine the volume reduction from the initial start sample. The up-concentrated sample was then diluted 4 times with TES buffer to generate a 5 times up-concentrated peptide sample prior to further sample processing. This is done to avoid the quenching of the fluorescent signal for the smaller peptide as it has been observed in previous assays. 10 &#956;&#912; of the 5x up-concentrated sample was mixed with 90&#956;1 of &#921;&#927;&#967; TES buffer to eliminate the up-concentration factor of the buffer when determining the end concentration of the up- concentrated peptide sample. The total sample of 100 &#956;&#912; was then mixed with 100 &#956;&#912; of LavaPep quantification kit, incubated for 1 h in room temperature and then the fluorescence counts were read in a QuBit fiuorometer (Invitrogen). The fluorescence counts were then compared to a standard curve where the actual concentration of the peptide sample was determined. From the same initial up-concentrated peptide sample, three samples (n=3) were prepared and measured in the Qubit and the mean fluorescent count number was used to determine the concentration from the standard curves. The sample volume was concentrated about 21 times, and the peptide B was up-concentrated about 24 times.\\n\\n\\nIn both cases the up-concentration factor of the sample peptides A and B corresponds to the reduction factor of the volume, thus leading to the conclusion that the Hollow Fiber modules having an active aquaporin-TFC layer on the inside can be used to up-concentrate biomolecules at least down to sizes of 0.375 kDa.\\n\\n\\nMaterials and equipment: \\n\\nPeptides: GGG SGA GKT purchased from CASLO \\n\\nTES: N-(Tris(hydroxymethyl)methyl)-2-aminomethanesulfonic acid), Sigma Aldrich, Cas 7365-44-8 \\n\\nLavaPep peptide quantification kit: Purchased from www.lavapep.com \\n\\nPart A (LP-022010) \\n\\nPart B (LP-022010) \\n\\nQubit fluorometer, Invitrogen \\n\\nCatalog number: Q32857 \\n\\nSerial number: 45257-233 \\n\\nMeasurement setting: Quant-iT ssDNA \\n\\nTES buffer, lOOmL \\n\\nm (TES) = 229.8 mg \\n\\nm(EDTA) = 37.2mg \\n\\nAdjust pH with 1M NaOH to 8 and fill up with mQ water. Filter through a vacuum filter. For lOx TES buffer the TES and EDTA amounts are multiplicated by 10. \\n\\nLavaPep quantification kit. \\n\\nPart A, Part B and mQ water are mixed together following the ratio (1 :1 :8). \\n\\nLavapep working solution is mixed with the up-concentrated peptide sample following the ratio (1 :1).\\n\\n8. Hollow fiber module retention of creatinine \\n\\nIn this example we will, i.a., use HF modules having 5cm active area prepared according to Example 3 above. The purpose is to determine the retention rate of creatinine (MW 113.12 g mol 1), which occurs naturally in blood and urine. If the filtration in the kidney is deficient, creatinine blood levels will rise. The creatinine level in blood and urine is commonly used to calculate the creatinine clearance (CrCl), which correlates with the glomerular filtration rate (GF ) which is clinically important as a measurement of renal function.\\n\\nCreatinine assay \\n\\nCreatinine in a sample is detected with the Creatinine Assay kit from abeam (ab65340). In the assay creatinine is converted to creatine by creatinase, creatine is converted to sarcosine which reacts with a probe to generate red color (lambda max = 570 nm) and fluorescence (Ex/Em=538/587 nm).\\n\\n\\nThe instructions of the kit are followed without alterations. Creatininase, creatinase and creatine enzyme mix are reconstituted with 220 &#956;&#912; of Assay Buffer each and aliquoted prior to use to avoid freeze and thaw cycles. Creatinine standard is reconstituted with 100 &#956;&#912; of deionized H20 to generate lOOmM Creatinine Standard. For the colorimetric assay the creatinine standard is diluted a hundred times in Assay Buffer to generate a working stock solution of 1 nmol/&#956;&#912;. A dilution series is prepared where 0, 2, 4, 6, 8 and 10 &#956;&#912; of the working solution is mixed in assay buffer to a final volume of 50 &#956;&#912;.\\n\\n\\nFor each sample a reaction mix is prepared with the following volumes. \\n\\nAssay Buffer: 42 &#956;&#912; \\n\\nCreatinase 2 &#956;&#912; \\n\\nCreatininase: 2 &#956;&#912; \\n\\nEnzyme mix: 2 &#956;&#912; \\n\\nProbe: 2 &#956;&#912;\\n\\n\\nThe background reaction mix contains the same reagents except for Creatininase. The amount of Assay Buffer is 44 &#956;&#912; instead. The standard samples (50 &#956;&#912;) are mixed with the reaction mix (50 &#956;&#912;), incubated at 37 °C for one hour. O.D. is measured in micro cuvettes at 570 nm and the background is subtracted from all the samples. O.D. is then plotted against the concentration to generate a standard curve.\\n\\n\\nFor creatinine samples in hollow fibers the same procedure will be done where the up-concentrated sample will be diluted 100 times in Assay Buffer and 50 &#956;&#912; of the resulting sample will be mixed with 50 &#956;&#912; of the reaction mix. The measured O.D. value will be \\n\\nmeasured and the concentration of the sample will be determined from the standard curves. \\n\\nReferences \\n\\nAll documents mentioned in this specification are incorporated herein by reference in their entirety. \\n\\nPanu Sukitpaneenit and Tai-Shung Chung, Environmental Science & Technology, 2012, 46, 7358-7365 \\n\\nNiwa T. Nagoya J Med Sci. 2010 Feb;72(l-2):l-l l . \\n\\nNiwa T, Nomura T, Sugiyama S, et al.: The protein metabolite hypothesis, a model for the progression of renal failure: an oral adsorbent lowers indoxyl sulfate levels in undialyzed uraemic patients. Kidney Int 1997;52:S23-S28. \\n\\nWenhao Xie (2011 ) Alteration of Membrane Properties during Continuous Hemofiltration Therapy in vivo (dissertation, \\n\\nhttp://darwin.bth.rwth-aachen.de/opus3/volltexte/2011/3556/pdf/3556.pdf). \\n\\nIkuo Aoike, Required Water Quality for the Use of High- Performance Membranes in Saito A, Kawanishi H, Yamashita AC, Mineshima M (eds): High-Performance Membrane Dialyzers. Contrib Nephrol. Basel, Karger, 2011, vol 173, pp 53-57. \\n\\nClark & Gao, Properties of Membranes Used for Hemodialysis Therapy. Seminars in Dialysis, Vol 15, No. 1 (January - February) 2002, pp 191-195. \\n\\nQian Yang, Kai Yu Wang, Tai-Shung Chung. Dual-Layer Hollow Fibers with Enhanced Flux as Novel Forward Osmosis Membranes for Water Production. Environ. Sci. \\n\\nTechnol. 2009, 43, 2800-2805. \\n\\nPeinemann et al. US published patent application No. 2007/0199892. \\n\\nMaria Karlsson et al. (FEBS Letters 537 (2003) 68-72). \\n\\nJensen et al. US 2012/0080377 Al . \\n\\nBaihai Su, Shudong Sun and Changsheng Zhao (201 1). Polyethersulfone Hollow Fiber Membranes for Hemodialysis, Progress in Hemodialysis - From Emergent Biotechnology to Clinical Practice, Prof. Angelo Carpi (Ed.), ISBN: 978-953-307-377-4, InTech, Available from: Retrieved from the Internet: (<URL: \\n\\nhttp://www.intechopen.com/books/progress-in-hemodialysis-from-emergent-biotechnology-to-clinical-practice/polyethersulfone-hollow-fiber-membranes-for-hemodialysis >) \\n\\n\"Polyethersulfone Hollow Fiber Membranes for Hemodialysis\" Chapter 4, p. 65-88, in Progress in Hemodialysis - From Emergent Biotechnology to Clinical Practice, Edited by Angelo Carpi, Carlo Donadio and Gianfranco Tramonti, Published by InTech 2011, Janeza Trdine 9, 51000 Rijeka, Croatia, [retrieved on 2012-11-09]. \\n\\nKotelyanskii, M.J., Wagner, N.J., Paulaitis, M.E.: Atomistic simulation of water and salt transport in the reverse osmosis membrane ft-30. J. Membr. Sci. 139 , 1-16 (1998). \\n\\nWang et al. Structure, Volume 13, Issue 8, August 2005, Pages 1107-1 118. \\n\\nUS 4,277,344. \\n\\nMembrana GMBH [Retrieved on 2012-12-15] Retrieved from the internet (: <URL: http://www.membranafiltration.com/filtration-modules/product-information/ultrapestm-membrane-fiber . cfm>) . \\n\\nKotelyanskii, M.J., Wagner, N.J., Paulaitis, M.E.: Atomistic simulation of water and salt transport in the reverse osmosis membrane ft-30. J. Membr. Sci. 139 , 1-16 (1998). \\n\\nZhang, P., Fu, X., Chung, T.-S., Weber, M. and Maletzko, C: Development of Thin-Film Composite forward Osmosis Hollow Fiber Membranes Using Direct Sulfonated \\n\\nPolyphenylenesulfone (sPPSU) as Membrane Substrates. Environ. Sci. Technol., 2013, 47 (13), pp 7430-7436\\nClaims: \\n\\n1. A hollow fiber (HF) module having fibers modified with a thin film composite (TFC) layer comprising aquaporin water channels.\\n\\n2. The HF module according to claim 1, wherein said aquaporin water channels are incorporated in vesicles before incorporation into the TFC layer.\\n\\n\\n3. The HF module according to claim 1 or claim 2, wherein said vesicles into which the aquaporin water channels are incorporated are liposomes or polymersomes.\\n\\n\\n4. The HF module according to any one of claims 1 to 3, wherein said liposomes are prepared from lipids such as DPhPC, DOPC, mixed soy bean lipids, asolectin or E. coli mixed lipids.\\n\\n5. The HF module according to any one of claims 1 to 3, wherein said polymersomes comprise triblock copolymers of the hydrophile-hydrophobe-hydrophile (A-B-A or A-B-C) type, diblock copolymers of the hydrophile-hydrophobe type (A-B), or a combination thereof.\\n\\n6. The HF module according to any one of claims 1 to 5, wherein said aquaporin water channels are AqpZ channels or SoPIP2; l water channels.\\n\\n\\n7. The HF module according to any one of claims 1 to 6, wherein said TFC layer is formed through interfacial polymerization of an aqueous solution of a di- or triamine with a solution of di- or triacyl halide in an organic solvent, and wherein the aquaporin water channel vesicles are incorporated in said aqueous solution.\\n\\n\\n8. The HF module according to any one of claims 1 to 7, wherein the hollow fiber support material is a polyethersulfone.\\n\\n\\n9. The HF module according to any one of claims 1 to 8, wherein the fiber area is from about 0.1 cm 2 to about 0.5 m 2. \\n\\n10. A hollow fiber membrane modified with a thin film composite (TFC) layer comprising aquaporin water channels.\\n\\n\\n11. The hollow fiber membrane of claim 10, wherein said aquaporin water channels are incorporated in vesicles before incorporation into the TFC layer.\\n\\n\\n12. The HF membrane of claim 10 or claim 1 1, wherein said vesicles into which the aquaporin water channels are incorporated are liposomes or polymersomes.\\n\\n13. The HF membrane according to any one of claims 10 to 12, wherein said liposomes are prepared from lipids such as DPhPC, DOPC, mixed soy bean lipids, acolectin or E. coli mixed lipids.\\n\\n\\n14. The HF membrane according to any one of claims 10 to 12, wherein said polymersomes comprise triblock copolymers of the hydrophile-hydrophobe-hydrophile (A-B-A or A-B-C) type, diblock copolymers of the hydrophile-hydrophobe type (A-B) or a combination thereof.\\n\\n\\n15. The HF membrane according to any one of claims 10 to 14, wherein said aquaporin water channels are AqpZ channels or SoPIP2;l water channels.\\n\\n\\n16. The HF membrane according to any one of claims 10 to 15, wherein said TFC layer is formed through interfacial polymerization of an aqueous solution of a di- or triamine with a solution of an di- or triacyl halide in an organic solvent, and wherein the aquaporin water channel vesicles are incorporated in said aqueous solution.\\n\\n\\n17. A method of preparing a hollow fiber module comprising HF membranes modified with a thin film composite (TFC) layer comprising aquaporin water channels, said method comprising the steps of: \\n\\na) obtaining an aquaporin vesicles suspension (proteoliposomes or \\n\\nproteopolymersomes) having from about 25 to about 500 LPR/POPR of protein, \\n\\nb) preparing an aqueous solution of a di- or triamine, \\n\\nc) dissolving a di- or triacyl halide in an apolar organic solvent, \\n\\nd) preparing a mixture of amine and aquaporin vesicle by dissolving/mixing the vesicles preparation from step a) with the solution from step b), \\n\\ne) pumping the mixture from step d) through the lumen of the hollow fibers in a hollow fiber module using its end inlet, \\n\\nf) removing excess aqueous solution by a gas purging of the lumen side of the fibers using a module inlet, \\n\\ng) injecting the acyl halide solution from step c) into the module through the lumen of the hollow fibers to allow an interfacial polymerization reaction to take place, and \\n\\nh) rinsing the module with an aqueous solvent by injection through a module inlet.\\n\\n\\n18. The method according to claim 17, wherein the method comprises the steps of a) obtaining an aquaporin vesicles suspension (proteolipo somes or \\n\\nproteopolymersomes) having from about 25 to about 500 LPR/POPR of protein, \\n\\nb) preparing an aqueous solution of 1,3-diaminobenzene of about 1% to about 5 %\\n\\n(w/w) concentration, \\n\\nc) dissolving benzene- 1,3, 5 -tricarbonyl chloride in an organic solvent selected from the group consisting of hexane, heptane, octane or a mixture of solvents to obtain a concentration of about 0.05% to about 1% (w/v), \\n\\nd) preparing an 1 ,3-diaminobenzene/aquaporin vesicle mixture by \\n\\ndissolving/mixing the vesicles preparation from step a) with the solution from step b), e) pumping the mixture from step d) through the lumen of the hollow fibers in a hollow fiber module using its end inlet, \\n\\nf) removing excess aqueous solution by a gas purging of the lumen side of the fibers using a module inlet, \\n\\ng) injecting the benzene-l,3,5-tricarbonyl chloride solution from step c) into the module through the lumen of the hollow fibers to allow an interfacial polymerization reaction to take place, and \\n\\nh) rinsing the module with an aqueous solvent by injection through a module inlet.\\n\\n\\n19. The method according to claim 17 or claim 18, wherein said hollow fiber module comprises polyethersulfone fibers. \\n\\n20. The method of claim 17 or claim 18, wherein in step f) the fibers are gas purged to dryness and wherein the module is held upside down in step i).\\n\\n\\n21. A method of outside coating a hollow fiber membrane with a thin film composite (TFC) layer comprising aquaporin water channels, said method comprising the steps of: a) obtaining an aquaporin vesicles suspension (proteoliposomes or \\n\\nproteopolymersomes) , \\n\\nb) preparing an aqueous solution of a di- or triamine, \\n\\nc) dissolving a di- or triacyl halide in an apolar organic solvent, \\n\\nd) preparing a mixture of amine and aquaporin vesicle by dissolving/mixing the vesicles preparation from step a) with the solution from step b), \\n\\ne) passing the hollow fiber membrane through the mixture from step d), f) removing excess aqueous solution, \\n\\ng) passing the hollow fiber membrane through the acyl halide solution from step c) to allow an interfacial polymerization reaction to take place, and \\n\\nh) rinsing the hollow fiber membrane with an aqueous solvent, e.g. by passing the hollow fibre through a water bath.\\n\\n\\n22. Use of into a hollow fiber (HF) module of any one of claims 1 to 9 for extraction of pure water through forward osmosis.\\n\\n\\n23. Use of a hollow fiber (HF) module of any one of claims 1 to 9 for re-extraction of pure water from a patient\\'s plasma lost through hemodialysis\\n\\n24. A method of extracting water from an aqueous liquid comprising the following steps: \\n\\na) placing a hollow fiber (HF) module of any one of claims 1 to 9 which is in controlled connection with a first aqueous liquid (feed solution) having an osmotic pressure which is lower than or equal to that of the liquid membrane matrix, and which is further in controlled connection with a second aqueous liquid (draw solution) having an osmotic pressure which is higher than that of the matrix to create an osmotic pressure potential between said first and said second liquid, \\n\\nb) allowing the matrix to absorb pure water from said first liquid and to mediate a pure water flux into said second liquid as long as an osmotic pressure gradient exists, c) optionally separating the extracted pure water from said second liquid.\\n\\n\\n25. The method according to claim 24, wherein said first aqueous liquid is selected from the group consisting of any type of natural water source, such as sea water, river water, lake water, brackish water, rain water, waste water which is not toxic to the aquaporin water channels, biological fluids including wine, fruit and vegetable juice, milk, whole blood, plasma, urine, saliva, sweat, homogenized tissue etc.\\n\\n26. A method of purifying an aqueous liquid containing one or more low molecular weight compounds, the method comprising passing a feed solution comprising the aqueous liquid containing one or more low molecular weight compounds into a hollow fiber (HF) module of any one of claims 1 to 9 so that water molecules can pass through the fibers modified with a thin film composite (TFC) layer comprising aquaporin water channels thereby separating the water molecules from the low molecular weight contaminants.\\n\\n\\n27. The method of claim 26, wherein the low molecular weight compounds comprise one or more of urea, indoxyl sulfate, p-cresol and/or p-cresyl.\\n '"
      ]
     },
     "execution_count": 166,
     "metadata": {},
     "output_type": "execute_result"
    }
   ],
   "source": []
  },
  {
   "cell_type": "code",
   "execution_count": 157,
   "metadata": {},
   "outputs": [
    {
     "data": {
      "text/plain": [
       "1031"
      ]
     },
     "execution_count": 157,
     "metadata": {},
     "output_type": "execute_result"
    }
   ],
   "source": [
    "len(h)"
   ]
  },
  {
   "cell_type": "code",
   "execution_count": 284,
   "metadata": {},
   "outputs": [
    {
     "name": "stdout",
     "output_type": "stream",
     "text": [
      "0\n",
      "['None']\n",
      "26\n",
      "['None']\n",
      "52\n",
      "['None']\n",
      "78\n",
      "['None']\n",
      "104\n",
      "['None']\n",
      "130\n",
      "['None']\n",
      "156\n",
      "['None']\n",
      "182\n",
      "['None']\n",
      "208\n",
      "['Complete', 'Specification\\n\\nELECTROCHROMIC']\n",
      "234\n",
      "['Complete', 'Specification\\n\\nEntitled']\n",
      "260\n",
      "['Complete', 'Specification\\n\\nClaims:PLEASE']\n",
      "286\n",
      "['Complete', 'Specification\\n\\n']\n",
      "312\n",
      "['Complete', 'Specification\\n\\n']\n",
      "338\n",
      "['Complete', 'Specification\\n\\n']\n",
      "364\n",
      "['Complete', 'Specification\\n\\n']\n",
      "390\n",
      "['Complete', 'Specification\\n\\n']\n",
      "416\n",
      "['Complete', 'Specification\\n\\n']\n",
      "442\n",
      "['Complete', 'Specification\\n\\nClaims:Please']\n",
      "468\n",
      "['Complete', 'Specification\\n\\nClaims:1.']\n",
      "494\n",
      "['Complete', 'Specification\\n\\nFIELD']\n",
      "520\n",
      "['Complete', 'Specification\\n\\nAcid']\n",
      "546\n",
      "['Complete', 'Specification\\n\\nThe']\n",
      "572\n",
      "['Complete', 'Specification\\n\\nClaims:We']\n",
      "598\n",
      "['Complete', 'Specification\\n\\nDESC:FIELD']\n",
      "624\n",
      "['Complete', 'Specification\\n\\nDC']\n",
      "650\n",
      "['Complete', 'Specification\\n\\n[DESCRIPTION]\\n[Title']\n",
      "676\n",
      "['Complete', 'Specification\\n\\n']\n",
      "702\n",
      "['Complete', 'Specification\\n\\n']\n",
      "728\n",
      "['Complete', 'Specification\\n\\n[LAUNDRY']\n",
      "754\n",
      "['Complete', 'Specification\\n\\nAlarm']\n",
      "780\n",
      "['Complete', 'Specification\\n\\nCLIAMS:1.']\n",
      "806\n",
      "['Complete', 'Specification\\n\\ndescription\\n\\n\\nSquirrel']\n",
      "832\n",
      "['Complete', 'Specification\\n\\n']\n",
      "858\n",
      "['Complete', 'Specification\\n\\n']\n",
      "884\n",
      "['Complete', 'Specification\\n\\nCLIAMS:1.']\n",
      "910\n",
      "['Complete', 'Specification\\n\\nCHEMICAL']\n",
      "936\n",
      "['Complete', 'Specification\\n\\n']\n",
      "962\n",
      "['Complete', 'Specification\\n\\nField']\n",
      "988\n",
      "['Complete', 'Specification\\n\\n']\n",
      "1014\n",
      "['Complete', 'Specification\\n\\n']\n",
      "40\n"
     ]
    }
   ],
   "source": [
    "cp=0\n",
    "for i in range(0,1037,26):\n",
    "    print(i)\n",
    "    print(h[i].split(\" \")[:2])\n",
    "    cp+=1\n",
    "    \n",
    "print(cp)"
   ]
  },
  {
   "cell_type": "code",
   "execution_count": 333,
   "metadata": {},
   "outputs": [],
   "source": [
    "h[0]\n",
    "h.remove(h[0])"
   ]
  },
  {
   "cell_type": "code",
   "execution_count": 336,
   "metadata": {},
   "outputs": [],
   "source": [
    "h[25]\n",
    "h.remove(h[25])"
   ]
  },
  {
   "cell_type": "code",
   "execution_count": 340,
   "metadata": {},
   "outputs": [],
   "source": [
    "h[50]\n",
    "h.remove(h[50])"
   ]
  },
  {
   "cell_type": "code",
   "execution_count": 342,
   "metadata": {},
   "outputs": [],
   "source": [
    "h[75]\n",
    "h.remove(h[75])"
   ]
  },
  {
   "cell_type": "code",
   "execution_count": 345,
   "metadata": {},
   "outputs": [],
   "source": [
    "h[100]\n",
    "h.remove(h[100])"
   ]
  },
  {
   "cell_type": "code",
   "execution_count": 347,
   "metadata": {},
   "outputs": [],
   "source": [
    "h[125]\n",
    "h.remove(h[125])"
   ]
  },
  {
   "cell_type": "code",
   "execution_count": 349,
   "metadata": {},
   "outputs": [],
   "source": [
    "h[150]\n",
    "h.remove(h[150])"
   ]
  },
  {
   "cell_type": "code",
   "execution_count": 351,
   "metadata": {},
   "outputs": [],
   "source": [
    "h[175]\n",
    "h.remove(h[175])"
   ]
  },
  {
   "cell_type": "code",
   "execution_count": 357,
   "metadata": {},
   "outputs": [],
   "source": [
    "h[199]\n",
    "h.remove(h[199])"
   ]
  },
  {
   "cell_type": "code",
   "execution_count": 360,
   "metadata": {},
   "outputs": [],
   "source": [
    "h[224]\n",
    "h.remove(h[224])"
   ]
  },
  {
   "cell_type": "code",
   "execution_count": 364,
   "metadata": {},
   "outputs": [],
   "source": [
    "h[249]\n",
    "h.remove(h[249])"
   ]
  },
  {
   "cell_type": "code",
   "execution_count": 367,
   "metadata": {},
   "outputs": [],
   "source": [
    "h[274]\n",
    "h.remove(h[274])"
   ]
  },
  {
   "cell_type": "code",
   "execution_count": 379,
   "metadata": {},
   "outputs": [],
   "source": [
    "h[299]\n",
    "h.remove(h[299])"
   ]
  },
  {
   "cell_type": "code",
   "execution_count": 384,
   "metadata": {},
   "outputs": [],
   "source": [
    "h[324]\n",
    "h.remove(h[324])"
   ]
  },
  {
   "cell_type": "code",
   "execution_count": 391,
   "metadata": {},
   "outputs": [],
   "source": [
    "h[349]\n",
    "h.remove(h[349])"
   ]
  },
  {
   "cell_type": "code",
   "execution_count": 398,
   "metadata": {},
   "outputs": [],
   "source": [
    "h[374]\n",
    "h.remove(h[374])"
   ]
  },
  {
   "cell_type": "code",
   "execution_count": 406,
   "metadata": {},
   "outputs": [],
   "source": [
    "h[399]\n",
    "h.remove(h[399])"
   ]
  },
  {
   "cell_type": "code",
   "execution_count": 413,
   "metadata": {},
   "outputs": [],
   "source": [
    "h[424]\n",
    "h.remove(h[424])"
   ]
  },
  {
   "cell_type": "code",
   "execution_count": 416,
   "metadata": {},
   "outputs": [],
   "source": [
    "h[449]\n",
    "h.remove(h[449])"
   ]
  },
  {
   "cell_type": "code",
   "execution_count": 426,
   "metadata": {},
   "outputs": [],
   "source": [
    "h[474]\n",
    "h.remove(h[474])"
   ]
  },
  {
   "cell_type": "code",
   "execution_count": 432,
   "metadata": {},
   "outputs": [],
   "source": [
    "h[499]\n",
    "h.remove(h[499])"
   ]
  },
  {
   "cell_type": "code",
   "execution_count": 440,
   "metadata": {},
   "outputs": [
    {
     "data": {
      "text/plain": [
       "'None'"
      ]
     },
     "execution_count": 440,
     "metadata": {},
     "output_type": "execute_result"
    }
   ],
   "source": [
    "h[524]\n",
    "h.remove(h[524])"
   ]
  },
  {
   "cell_type": "code",
   "execution_count": 443,
   "metadata": {},
   "outputs": [],
   "source": [
    "h[550]\n",
    "h.remove(h[550])"
   ]
  },
  {
   "cell_type": "code",
   "execution_count": 445,
   "metadata": {},
   "outputs": [],
   "source": [
    "h[575]\n",
    "h.remove(h[575])"
   ]
  },
  {
   "cell_type": "code",
   "execution_count": 447,
   "metadata": {},
   "outputs": [],
   "source": [
    "h[600]\n",
    "h.remove(h[600])"
   ]
  },
  {
   "cell_type": "code",
   "execution_count": 449,
   "metadata": {},
   "outputs": [],
   "source": [
    "h[625]\n",
    "h.remove(h[625])"
   ]
  },
  {
   "cell_type": "code",
   "execution_count": 453,
   "metadata": {},
   "outputs": [],
   "source": [
    "h[649]\n",
    "h.remove(h[649])"
   ]
  },
  {
   "cell_type": "code",
   "execution_count": 460,
   "metadata": {},
   "outputs": [],
   "source": [
    "h[674]\n",
    "h.remove(h[674])"
   ]
  },
  {
   "cell_type": "code",
   "execution_count": 463,
   "metadata": {},
   "outputs": [],
   "source": [
    "h[699]\n",
    "h.remove(h[699])"
   ]
  },
  {
   "cell_type": "code",
   "execution_count": 466,
   "metadata": {},
   "outputs": [],
   "source": [
    "h[724]\n",
    "h.remove(h[724])"
   ]
  },
  {
   "cell_type": "code",
   "execution_count": 469,
   "metadata": {},
   "outputs": [],
   "source": [
    "h[749]\n",
    "h.remove(h[749])"
   ]
  },
  {
   "cell_type": "code",
   "execution_count": 476,
   "metadata": {},
   "outputs": [],
   "source": [
    "h[773]\n",
    "h.remove(h[773])"
   ]
  },
  {
   "cell_type": "code",
   "execution_count": 479,
   "metadata": {},
   "outputs": [],
   "source": [
    "h[798]\n",
    "h.remove(h[798])"
   ]
  },
  {
   "cell_type": "code",
   "execution_count": 481,
   "metadata": {},
   "outputs": [],
   "source": [
    "h[823]\n",
    "h.remove(h[823])"
   ]
  },
  {
   "cell_type": "code",
   "execution_count": 483,
   "metadata": {},
   "outputs": [],
   "source": [
    "h[848]\n",
    "h.remove(h[848])"
   ]
  },
  {
   "cell_type": "code",
   "execution_count": 485,
   "metadata": {},
   "outputs": [],
   "source": [
    "h[873]\n",
    "h.remove(h[873])"
   ]
  },
  {
   "cell_type": "code",
   "execution_count": 487,
   "metadata": {},
   "outputs": [],
   "source": [
    "h[898]\n",
    "h.remove(h[898])"
   ]
  },
  {
   "cell_type": "code",
   "execution_count": 490,
   "metadata": {},
   "outputs": [],
   "source": [
    "h[923]\n",
    "h.remove(h[923])"
   ]
  },
  {
   "cell_type": "code",
   "execution_count": 492,
   "metadata": {},
   "outputs": [],
   "source": [
    "h[948]\n",
    "h.remove(h[948])"
   ]
  },
  {
   "cell_type": "code",
   "execution_count": 494,
   "metadata": {},
   "outputs": [],
   "source": [
    "h[973]\n",
    "h.remove(h[973])"
   ]
  },
  {
   "cell_type": "code",
   "execution_count": 495,
   "metadata": {},
   "outputs": [
    {
     "data": {
      "text/plain": [
       "998"
      ]
     },
     "execution_count": 495,
     "metadata": {},
     "output_type": "execute_result"
    }
   ],
   "source": [
    "len(h)"
   ]
  },
  {
   "cell_type": "code",
   "execution_count": 496,
   "metadata": {},
   "outputs": [
    {
     "data": {
      "text/plain": [
       "997"
      ]
     },
     "execution_count": 496,
     "metadata": {},
     "output_type": "execute_result"
    }
   ],
   "source": [
    "len(a)"
   ]
  },
  {
   "cell_type": "code",
   "execution_count": 510,
   "metadata": {},
   "outputs": [
    {
     "name": "stdout",
     "output_type": "stream",
     "text": [
      "920\n",
      "946\n",
      "960\n",
      "972\n"
     ]
    }
   ],
   "source": [
    "for i in range(len(h)):\n",
    "    if h[i]== 'None':\n",
    "        print(i)"
   ]
  },
  {
   "cell_type": "code",
   "execution_count": 514,
   "metadata": {},
   "outputs": [],
   "source": [
    "h[972]\n",
    "h.remove(h[972])"
   ]
  },
  {
   "cell_type": "code",
   "execution_count": 521,
   "metadata": {},
   "outputs": [],
   "source": [
    "h.insert(972, 'None')"
   ]
  },
  {
   "cell_type": "code",
   "execution_count": 522,
   "metadata": {},
   "outputs": [
    {
     "data": {
      "text/plain": [
       "997"
      ]
     },
     "execution_count": 522,
     "metadata": {},
     "output_type": "execute_result"
    }
   ],
   "source": [
    "len(a)"
   ]
  },
  {
   "cell_type": "code",
   "execution_count": 530,
   "metadata": {},
   "outputs": [
    {
     "data": {
      "text/plain": [
       "'ETHERAMINES BASED ON 1 2 DIALCOHOLS'"
      ]
     },
     "execution_count": 530,
     "metadata": {},
     "output_type": "execute_result"
    }
   ],
   "source": [
    "a[222]"
   ]
  },
  {
   "cell_type": "code",
   "execution_count": 532,
   "metadata": {},
   "outputs": [
    {
     "data": {
      "text/plain": [
       "'Complete Specification\\n\\nClaims:I claim:\\n\\n1. An earthquake alarm device comprising of a housing encasing a central element (10) having sensors (1, 2), a main control board (5) connected to said sensors and located within the housing of the device, a siren (6) installed behind a perforated opening of the housing, automatic LED lights (7) mounted at the bottom of the housing, an arrangement of LED indicators (9) and switches (12, 13) connected to said main control board and provided in a panel on the external side face of the housing, the central element (10) comprising of a PVC pipe (15) having a suitable diameter, a plastic bar (16) of suitable length, width and thickness suspended inside pipe (15) and two photoelectric sensors (1, 2) mounted inside the pipe such that the photo-sender and receiver of each sensor is placed on diametrically opposite inner faces of the pipe (15) on the same horizontal plane on either side of bar (16), said bar (16) being adapted to be moved by earthquake vibrations such that at least one sensor is activated and each sensor being adapted to work together or individually for detecting earthquake vibrations and issuing alarm. \\n\\n2. The earthquake alarm device as claimed in claim 1, wherein said plastic bar (16) is suspended from an upper cap fitted on said pipe (15) such that it forms a barrier between the photo-sender and receiver of each sensor (1, 2) in the steady state, the sensors being thereby deactivated when there is no earthquake. \\n\\n3. The earthquake alarm device as claimed in claim 1, wherein the width of said plastic bar (16) controls the setting of the Richter scale for earthquake alarm that the device is preset to detect.\\n\\n4. The earthquake alarm device as claimed in claim 1, wherein said PVC pipe (15) has a diameter ranging between 350 and 425 mm, most preferably 380 mm.\\n\\n5. The earthquake alarm device as claimed in claim 1, wherein said housing is provided with an input 220V AC power supply (11) and a 2-pin plug point (14) for optional outdoor lighting on one side face.\\n\\n6. The earthquake alarm device as claimed in claim 1, wherein said arrangement of switches and indicators comprises of a beep switch (12) for putting off the siren (6) during installation, a power switch (13) for switching the whole device on or off and a plurality of LED indicators (9).\\n\\n7. The earthquake alarm device as claimed in claims 1 and 5, wherein said 220V AC power supply (11) is connected to a charging unit (3), the output of charging unit (3) being connected to a 12V rechargeable battery (4) which is connected downstream to main control board (5), said  main control board (5) being connected to said two photoelectric sensors (1, 2), the siren (6),  the plurality of LED indicators (9) and the automatic LED lights (7).\\n\\n8. The earthquake alarm device as claimed in claims 1 and 7, wherein said main control board (5) is externally connected to  staircase lights (8) which gets switched on only when the main control board (5) is triggered by the sensors (1,2) in the event of any earthquake, to back up for any consequential power cut.\\n\\n9. A method of operating the earthquake alarm device as claimed in claims 1-8 comprising of the steps of:\\n- Switching off beep switch (12) to disconnect the siren (6) for installation of the device;\\n- setting and fixing the device on a wall of a room so that it does not tilt due to wind circulation in the room;\\n- connecting input 220V AC power supply (11) to the device;\\n- regularly monitoring whether the battery is working by checking whether all indicators fitted to the device glow;\\n- ensuring that in the steady state when there is no earthquake, the sensors (1, 2) are deactivated by the plastic bar (16) suspended from an upper cap fitted on PVC pipe (15) such that the bar forms a barrier between the photo-sender and receiver of each sensor (1, 2);\\n- automatic removal of the barrier between the photo-sender and receiver of each sensor (1, 2) through movement of plastic bar (16) by earthquake vibration of preset magnitude, thereby activating either one or both the sensors (1, 2);\\n- receiving the signal produced by the contacts of the sensor points/parts (in any sensor) by the main control board (5);\\n- sending simultaneous commands instantaneously by main control board (5) to light the indicators (9), blow the siren (6) and switch on the bottom LED-light (7) to warn its user about the situation; \\n- switching on the optional emergency staircase lights (8) by the main control board (5) at the same instant; and\\n- automatically cutting off siren (6) and LED lights (7) by the timer in the main control board (5) after a preset time.\\n\\n\\nDated  this  3rd  day  of  October,  2016.\\n(S. GHOSH)\\nfor seenergi IPR\\nApplicant’s Agent\\n                                           \\n\\n\\n , Description:EARTH QUAKE ALARMING SYSTEM\\n\\n\\nFIELD OF THE INVENTION\\n\\nThe present invention relates in general to devices and systems for detection of earthquakes and in particular to an earthquake alarm device that is simple in construction and responds rapidly on detecting earthquake wave. \\n\\n\\nBACKGROUND AND PRIOR ART\\n\\nEarthquakes have caused huge destruction and loss of life and property since time immemorial. It is not possible to stop an earthquake from taking place, as it is a natural phenomenon beyond the control of man. Hence, man has always endeavoured to learn of an earth quake as early as possible and take the best possible preventive measures to avoid losses as far as feasible. As a result, many earthquake early detection and alarm systems have been made and are available in the market.\\nHowever, most of them use high end technology and instruments which make them very expensive and out of reach of the majority of population including small institutions like a school, hostel or small hotel.\\nMoreover, many of the earthquake alarms of the prior art demand continuous maintenance to keep them in good working condition. They also need trained manpower to operate them. These are hurdles that prevent their deployment in many places, particularly in remote and underdeveloped areas of any country.\\nTherefore, there is a great need in the industry for an earthquake alarm that is cost effective, being simple in construction, and easy to operate and maintain. At the same time, the alarm should be fast-acting and dependable. The present invention seeks to provide an earthquake alarm device which meets these needs.\\n\\n\\nOBJECTS OF THE INVENTION\\n\\nThe primary object of the present invention is to provide an earthquake alarm device that is simple in construction, cost-effective and capable of quick detection of earthquake wave and instantaneous issuance of alarm signal.\\nAnother object of the invention is to provide an earthquake alarm device that can be manufactured from components that are easily available in most places.\\nYet another object of the invention is to provide an earthquake alarm device that can be operated by almost anybody without any special training.\\nAnother object of the invention is to provide an ‘earthquake alarm device’ that is fast acting and dependable.\\nA further object of the invention is to provide an earthquake alarm device that does not have any high technology components. \\nHow the foregoing objects are achieved will be clear from the following description. In this context it is clarified that the description provided is non-limiting and is only by way of explanation. \\n\\n\\nSUMMARY OF THE INVENTION\\n\\nAn earthquake alarm device comprises of a housing which encases a central element having sensors and a main control board connected to the sensors and located within the housing of the device. A siren is installed behind a perforated opening of the housing. Automatic LED lights are mounted at the bottom of the housing. An arrangement of LED indicators and switches are connected to the main control board and provided in a panel on the external side face of the housing. The central element comprises of a PVC pipe having a suitable diameter, a plastic bar of suitable length, width and thickness being suspended inside pipe, and two sensors are mounted inside the pipe such that the photo-sender and receiver of each sensor is placed on diametrically opposite inner faces of the pipe on the same horizontal plane on either side of bar, the bar being adapted to be moved by earthquake vibrations such that at least one sensor is activated. Each sensor is designed to work together or individually for detecting earthquake vibrations and issuing alarm. \\nThe plastic bar is suspended from an upper cap fitted on said pipe such that it forms a barrier between the photo-sender and receiver of each sensor in the steady state, preventing the sensors from being deactivated when there is no earthquake. The width of the plastic bar controls the setting of the Richter scale for earthquake alarm that the device is preset to detect. The PVC pipe has a diameter ranging between 350 and 425 mm, most preferably 380 mm.\\nThe housing is provided with an input 220V AC power supply and a 2-pin plug point for optional outdoor lighting on one side face. The arrangement of switches and indicators comprises of a beep switch for putting off the siren during installation, a power switch for switching the whole device on or off and a plurality of LED indicators. The 220V AC power supply is connected to a charging unit, the output of charging unit being connected to a 12V rechargeable battery which is connected downstream to main control board. The main control board is connected to the two photoelectric sensors, the siren, the plurality of LED indicators and the automatic LED lights.\\nThe main control board is externally connected to the staircase lights which get switched on only when the main control board is triggered by the sensors in the event of any earthquake, to back up for any consequential power cut.\\nA method of operating the earthquake alarm device as described above comprises of the steps of:\\n- Switching off beep switch to disconnect the siren for installation of the device;\\n- setting and fixing the device on a wall of a room so that it does not tilt due to wind circulation in the room;\\n- connecting input 220V AC power supply to the device;\\n- regularly monitoring whether the battery is working by checking whether all indicators fitted to the device glow;\\n- ensuring that in the steady state when there is no earthquake, the sensors are deactivated by the plastic bar suspended from an upper cap fitted on PVC pipe such that the bar forms a barrier between the photo-sender and receiver of each sensor;\\n- automatic removal of the barrier between the photo-sender and receiver of each sensor through movement of plastic bar by earthquake vibration of preset magnitude, thereby activating either one or both the sensors;\\n- receiving the signal produced by the contacts of the sensor points/parts (in any sensor) by the main control board;\\n- sending simultaneous commands instantaneously by main control board to light the indicators, blow the siren and switch on the bottom LED-light to warn its user about the situation; \\n- switching on the optional emergency staircase lights by the main control board at the same instant; and\\n- automatically cutting off siren and LED lights by the timer in the main control board (5) after a preset time.\\n\\n\\nBRIEF DESCRIPTION OF THE ACCOMPANYING DRAWINGS\\n\\nThe nature and scope of the present invention will be better understood from the accompanying drawings, which are by way of illustration of a preferred embodiment and not by way of any sort of limitation. In the accompanying drawings:-\\nFigure 1A is a perspective view of the housing of the earthquake alarm device according to the present invention.\\nFigure 1B is a blow-up showing the panel of switches and indicators provided on the housing of figure 1A.\\nFigure 2 is a block diagram showing the arrangement of the components of the alarm device as arranged within the housing.\\nFigure 3 shows the electrical circuit connecting the components of the alarm device according to the invention.\\nFigure 4 is a conceptual display of the central element of the earthquake alarm device.\\nFigure 5 shows the connection of the sensors and the PCBs of the alarm device.\\n\\nDETAILED DESCRIPTION OF THE INVENTION\\n\\nHaving described the main features of the invention above, a more detailed and non-limiting description of a preferred embodiment will be given in the following paragraphs with reference to the accompanying drawings.\\nIn all the figures, like reference numerals represent like features. Further, the shape, size and number of the devices shown are by way of example only and it is within the scope of the present invention to change their shape, size and number without departing from the basic principle of the invention. \\nFurther, when in the following it is referred to “top”, “bottom”, “upward”, “downward”, “above” or “below”, “right hand side”, “left hand side” and similar terms, this is strictly referring to an orientation with reference to the apparatus, where the base of the apparatus is horizontal and is at the bottom portion of the figures. The number of components shown is exemplary and not restrictive and it is within the scope of the invention to vary the shape and size of the apparatus as well as the number of its components, without departing from the principle of the present invention.  \\nAll through the specification including the claims, the technical terms and abbreviations are to be interpreted in the broadest sense of the respective terms, and include all similar items in the field known by other terms, as may be clear to persons skilled in art. Restriction or limitation if any referred to in the specification, is solely by way of example and understanding the present invention.\\nFigure 1A shows the housing of the earthquake alarm device of the invention. It has provision for input 220V AC power supply (11). A 2-pin plug point (14) for optional outdoor lighting is provided on one side of the housing, as also an arrangement of switches and indicators provided on a panel on a side face of the housing, best shown in figure 1B. A siren (6) is installed behind a perforated opening provided in the body of the housing. At the bottom of the housing, LED lights (7) are mounted which are automatically switched on as soon as earthquake vibration reaches the device and the device is activated.\\n\\nFigure 1B shows a blown-up view of the arrangement of switches and indicators made on a panel provided on a side face of the housing shown in figure 1A. A beep switch (12) is provided for putting off the siren during installation of the device. A power switch (13) is provided for switching the whole device on or off. \\n \\nThe battery can be put on charging without the device being switched on, by means of this switch. There is a plurality of LED indicators (9) in this panel. A ‘power on’ indicator (red) shows that the device is receiving power from the mains. The charging indicator (green) glows when the battery is charging. There are two sensor signal indicators. LED for Sensor 1 signal (white) or sensor 2 signal (white) goes off when the device is ready to operate. These indicators are on when the sensors are not ready and the device is in the process of installation.  \\n\\nFigure 2 shows a layout of the components of the device within the housing. The housing has the main control board (5), the central element (10) having sensors (1, 2), best shown in figure 4, a siren (6), a battery (4) and a charging unit (3) installed within it, while LED indicators (9) and the switches (12, 13) on the panel  are positioned on its external side face, as mentioned above.\\n\\nFigure 3 shows the electrical circuit of the device. 220V AC power supply (11) is connected to feed power to charging unit (3) containing a transformer. The output of charging unit (3) is connected to a 12V rechargeable battery (4) for charging it. The battery is connected downstream to main control board (5). \\n\\nThe main control board (5) is connected to two sensors (1, 2) within the central element (10). The sensors are activated as soon as an earthquake wave of a preset magnitude in the Richter scale is detected by the central element (10), best shown in figure 4. Instantaneously, the main control board (5) is activated, which simultaneously switches on the siren (6), the plurality of LED indicators (9) provided on the panel on the housing and the automatic LED lights (7) mounted at the bottom of the housing. The siren gives audio warning to the users that an earthquake has been detected. The LED indicators display the status of the different elements of the device. The automatic LED lights (7) are provided to illuminate the room for people to escape, as almost all earthquakes are accompanied by consequential disruption of electricity. Additionally, optional additional staircase lights (8), which are connected externally to the housing, are also switched on at the same instant by the main control board for further ease in evacuation during the power failure, consequential to an event of earthquake.\\n\\nFigure 4 shows the central element (10) of the earthquake alarm device. It comprises of a PVC pipe (15) having a diameter ranging between 350 and 425 mm, most preferably 380 mm, where the main activity takes place. A plastic bar (16) of suitable length, width and thickness is suspended from an upper cap fitted on the pipe (15) with a hanging clip and a flexible wire. Two photoelectric sensors (1, 2) are mounted inside the pipe in such a way that the photo-sender and receiver of each sensor are placed on diametrically opposite inner faces of the pipe (15) on the same horizontal plane. \\n\\nAs shown in figure 5, the main control board (5) comprises of a PCB and a timer.\\nThe device according to the present invention is unique with respect to its operation. It uses photoelectric sensors which are suitably located inside a control unit, so that the time required to generate an alarm is very much reduced compared to the devices that are in vogue. The device has been designed as a decorative showpiece with a soothing landscape picture on the front of the housing, which is meant to be mounted on a wall by suitable supports. In case of earthquakes measuring more than 3.5 in the Richter scale, the device is designed to produce an audio warning through a built-in siren. In addition, an LED lamp provided at the bottom of the housing lights up the room in the night for ease of taking precautionary actions.\\nThe device operates on domestic 220V AC supply. Additionally is has a battery backup for operating during power cuts lasting up to 15 days if fully charged.\\nIf power cut takes place in the night due to the earth quake shock, one extra staircase light can be fitted additionally besides the built-in automatic emergency LED room–light back up. This is optional.\\n\\nThe device is calibrated to operate for quake levels of 3.5 or more in the Richter scale. To give an idea, the vibration that sets in due to a road roller is considerably less than 3.5 in the Richter scale. Therefore this setting of the device is considered practical, and is meant to generate correct response to earthquakes of minor or major nature. The only requirement is that the battery is kept ready and recharged.\\nThe instrument is to be hung and set on the wall so fixed as not to tilt due to wind circulation in the room, where it is meant to be placed. In case the battery is not working, any indicator fitted to the device does not glow. Therefore, the battery has to be monitored regularly. \\n\\nInstallation of the device:\\nAs mentioned before, the device is to be installed inside a room, specifically on one of its walls. Before starting installation, beep switch (12) is to be turned off, so that the siren (6) does not go off accidentally, in case the sensors get activated during the installation. The device must be hung on the wall and secured so that its position is not altered by wind circulation within the room. The plastic bar (16) suspended within the PVC pipe (15) must remain vertical for the device to operate properly. During installation, the bar must provide a barrier between the senders and receivers of both sensors (1, 2), so that the sensors remain deactivated.\\n\\nOperation:\\nIt is well known that a sensor is activated as soon as the light emitted by its sender is received by its receiver. The plastic bar (16) is suspended within the pipe (15) in such manner that it provides a barrier between the senders and receivers of both sensors (1, 2), so that the sensors remain deactivated during steady state, i.e. when there is no earthquake. The sensors are also accordingly located, as explained above. The bar is so placed between the sensor sender-receiver pairs, that in case of a movement of the bar, either in the vertical or in horizontal planes, at least one of the sender-receiver pairs gets connected and the respective sensor is activated. \\n\\nThe plastic bar (16) has a rectangular cross section having a certain width and thickness. The width of the bar is the factor which controls the setting of the Richter scale for earthquake alarm that the device is calibrated to detect. As the width goes up, the Richter scale setting of the device also goes up.\\nIt has been tested in the laboratory that a bar having only a specific width can detect a minimum earthquake level of 3.5. The bar is suspended in a way so that the center of its width lies in the path of the sender-receiver pair of each sensor. In this particular arrangement, the mid-point of the bar width, equidistant from either edge of the bar, must be the path for the sensor light stream. Hence the bar is required to move at least by this width in either direction for the sensor to be activated. This displacement is produced by an earthquake of 3.5 Richter. \\nIt should be understood that the magnitude at which the device can be preset to respond to a certain Richter scale can be reduced and increased by reducing and increasing the width of the bar respectively, and this is within the scope of the present invention.\\nNow, whenever an earthquake of magnitude 3.5 or above in the Richter scale occurs, the plastic bar (16) starts to move in different directions within the PVC pipe where it is suspended from the top. It moves by an amount which is enough to clear the barrier created by it between the sender of the sensor of at least one sensor and its receiver, as explained above. The sensors thus get activated, i.e. earthquake is detected by the device.\\nAs soon as at least one sensor is activated, the device of the present invention operates. However, there are two sensors provided in the device by way of adequate redundancy. Even if one sensor fails to get activated, another will. So, either of Sensor-1 or Sensor- 2 or both send the signal to the main board (5), which in no time sends simultaneous commands to light the indicators (9), blow the siren (6) and switch on the bottom LED-light (7) to warn its user about the situation. In case optional emergency staircase lights (8) are provided, the main control board switches them on too at the same instant.\\n\\nThe main control board (5) is used to receive the signal produced by the contact of the sensor points/parts (in any sensor), and send the output to the timer board to start siren (6) and activate LED Lamp (7), as well as staircase lamps (8), if connected. Once any sensor switches ‘ON’, siren (6) and LED lamp (7) start functioning together for 15 seconds and then cut themselves out automatically. However, this period can be extended to 30 seconds or 45 seconds or more, by setting the timer board in the main control board (5) accordingly, and this is within the scope of the present invention.\\nThe present invention has been described with reference to some drawings and a preferred embodiment purely for the sake of understanding and not by way of any limitation and the present invention includes all legitimate developments within the scope of what has been described herein before and claimed in the appended claims.'"
      ]
     },
     "execution_count": 532,
     "metadata": {},
     "output_type": "execute_result"
    }
   ],
   "source": [
    "h[222]"
   ]
  },
  {
   "cell_type": "code",
   "execution_count": 519,
   "metadata": {},
   "outputs": [
    {
     "data": {
      "text/plain": [
       "'METHOD AND REACTION EQUIPMENT FOR PREPARING DIMETHYL ETHER AND OLEFIN FROM METHANOL'"
      ]
     },
     "execution_count": 519,
     "metadata": {},
     "output_type": "execute_result"
    }
   ],
   "source": [
    "a[230]"
   ]
  },
  {
   "cell_type": "code",
   "execution_count": 1,
   "metadata": {},
   "outputs": [
    {
     "ename": "NameError",
     "evalue": "name 'h' is not defined",
     "output_type": "error",
     "traceback": [
      "\u001b[1;31m---------------------------------------------------------------------------\u001b[0m",
      "\u001b[1;31mNameError\u001b[0m                                 Traceback (most recent call last)",
      "\u001b[1;32m<ipython-input-1-244aa7266b3f>\u001b[0m in \u001b[0;36m<module>\u001b[1;34m\u001b[0m\n\u001b[1;32m----> 1\u001b[1;33m \u001b[0mh\u001b[0m\u001b[1;33m\u001b[0m\u001b[1;33m\u001b[0m\u001b[0m\n\u001b[0m",
      "\u001b[1;31mNameError\u001b[0m: name 'h' is not defined"
     ]
    }
   ],
   "source": [
    "h"
   ]
  },
  {
   "cell_type": "code",
   "execution_count": 10,
   "metadata": {},
   "outputs": [],
   "source": [
    "dfo = pd.DataFrame(columns = ['Complete Specification'])"
   ]
  },
  {
   "cell_type": "code",
   "execution_count": 11,
   "metadata": {},
   "outputs": [],
   "source": [
    "dfo['Complete Specification'] = h"
   ]
  },
  {
   "cell_type": "code",
   "execution_count": 12,
   "metadata": {},
   "outputs": [],
   "source": [
    "dfo.to_excel('Complete Specification.xlsx')"
   ]
  },
  {
   "cell_type": "code",
   "execution_count": null,
   "metadata": {},
   "outputs": [],
   "source": []
  }
 ],
 "metadata": {
  "kernelspec": {
   "display_name": "Python 3",
   "language": "python",
   "name": "python3"
  },
  "language_info": {
   "codemirror_mode": {
    "name": "ipython",
    "version": 3
   },
   "file_extension": ".py",
   "mimetype": "text/x-python",
   "name": "python",
   "nbconvert_exporter": "python",
   "pygments_lexer": "ipython3",
   "version": "3.8.2"
  }
 },
 "nbformat": 4,
 "nbformat_minor": 4
}
